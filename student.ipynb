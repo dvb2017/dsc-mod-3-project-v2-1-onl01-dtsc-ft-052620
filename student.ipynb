{
 "cells": [
  {
   "cell_type": "markdown",
   "metadata": {},
   "source": [
    "# Module 3 Project - Introduction\n",
    "\n",
    "Business Case - A bank would like to improve their ability to predict credit card defaults.  In order to do this they would like to see a model that is able to make more accurate predictions than the base model.  There are a few specific questions that would be helpful to answer along the way.  \n",
    "- What is the baseline accuracy level?\n",
    "- Is there enough information in this data to make predictions?  Any obstacles?\n",
    "- What factors are strong predictors of default?\n"
   ]
  },
  {
   "cell_type": "code",
   "execution_count": 60,
   "metadata": {},
   "outputs": [],
   "source": [
    "#importing all of the necessary modules (CHECK and remove unused before finishing)\n",
    "import numpy as np \n",
    "import pandas as pd \n",
    "from scipy.stats import entropy\n",
    "from sklearn.model_selection import train_test_split, GridSearchCV, RandomizedSearchCV \n",
    "from sklearn.metrics import accuracy_score, confusion_matrix\n",
    "from sklearn.tree import export_graphviz\n",
    "from sklearn.preprocessing import StandardScaler, MinMaxScaler\n",
    "from IPython.display import Image  \n",
    "from pydotplus import graph_from_dot_data\n",
    "from sklearn.metrics import accuracy_score, confusion_matrix, classification_report\n",
    "from sklearn.tree import DecisionTreeClassifier\n",
    "from sklearn.linear_model import LogisticRegression, Lasso, Ridge, LinearRegression\n",
    "from sklearn.ensemble import BaggingClassifier, RandomForestClassifier\n",
    "from sklearn.neighbors import KNeighborsClassifier\n",
    "from sklearn.pipeline import Pipeline\n",
    "from sklearn.metrics import roc_auc_score, roc_curve, auc\n",
    "import matplotlib.pyplot as plt\n",
    "import seaborn as sns\n",
    "import xgboost as xgb\n",
    "from scipy import stats\n",
    "from imblearn.over_sampling import SMOTE\n",
    "from math import log\n",
    "import warnings\n",
    "warnings.filterwarnings(\"ignore\")\n",
    "\n",
    "plt.style.use('ggplot')\n",
    "%matplotlib inline"
   ]
  },
  {
   "cell_type": "markdown",
   "metadata": {},
   "source": [
    "# Initial Data Exploration\n",
    "The first step  will be to import and examine the basics of the dataset so that we can  begin cleaning it.  I will check to make sure variables are the correct data type, make sure there are no anomalies, etc.  I'll also be keeping an eye out for any potential patterns and start thinking about what would make a strong model for the specific data. "
   ]
  },
  {
   "cell_type": "code",
   "execution_count": 2,
   "metadata": {},
   "outputs": [
    {
     "data": {
      "text/html": [
       "<div>\n",
       "<style scoped>\n",
       "    .dataframe tbody tr th:only-of-type {\n",
       "        vertical-align: middle;\n",
       "    }\n",
       "\n",
       "    .dataframe tbody tr th {\n",
       "        vertical-align: top;\n",
       "    }\n",
       "\n",
       "    .dataframe thead th {\n",
       "        text-align: right;\n",
       "    }\n",
       "</style>\n",
       "<table border=\"1\" class=\"dataframe\">\n",
       "  <thead>\n",
       "    <tr style=\"text-align: right;\">\n",
       "      <th></th>\n",
       "      <th>LIMIT_BAL</th>\n",
       "      <th>SEX</th>\n",
       "      <th>EDUCATION</th>\n",
       "      <th>MARRIAGE</th>\n",
       "      <th>AGE</th>\n",
       "      <th>PAY_0</th>\n",
       "      <th>PAY_2</th>\n",
       "      <th>PAY_3</th>\n",
       "      <th>PAY_4</th>\n",
       "      <th>PAY_5</th>\n",
       "      <th>...</th>\n",
       "      <th>BILL_AMT4</th>\n",
       "      <th>BILL_AMT5</th>\n",
       "      <th>BILL_AMT6</th>\n",
       "      <th>PAY_AMT1</th>\n",
       "      <th>PAY_AMT2</th>\n",
       "      <th>PAY_AMT3</th>\n",
       "      <th>PAY_AMT4</th>\n",
       "      <th>PAY_AMT5</th>\n",
       "      <th>PAY_AMT6</th>\n",
       "      <th>default.payment.next.month</th>\n",
       "    </tr>\n",
       "  </thead>\n",
       "  <tbody>\n",
       "    <tr>\n",
       "      <th>0</th>\n",
       "      <td>20000.0</td>\n",
       "      <td>2</td>\n",
       "      <td>2</td>\n",
       "      <td>1</td>\n",
       "      <td>24</td>\n",
       "      <td>2</td>\n",
       "      <td>2</td>\n",
       "      <td>-1</td>\n",
       "      <td>-1</td>\n",
       "      <td>-2</td>\n",
       "      <td>...</td>\n",
       "      <td>0.0</td>\n",
       "      <td>0.0</td>\n",
       "      <td>0.0</td>\n",
       "      <td>0.0</td>\n",
       "      <td>689.0</td>\n",
       "      <td>0.0</td>\n",
       "      <td>0.0</td>\n",
       "      <td>0.0</td>\n",
       "      <td>0.0</td>\n",
       "      <td>1</td>\n",
       "    </tr>\n",
       "    <tr>\n",
       "      <th>1</th>\n",
       "      <td>120000.0</td>\n",
       "      <td>2</td>\n",
       "      <td>2</td>\n",
       "      <td>2</td>\n",
       "      <td>26</td>\n",
       "      <td>-1</td>\n",
       "      <td>2</td>\n",
       "      <td>0</td>\n",
       "      <td>0</td>\n",
       "      <td>0</td>\n",
       "      <td>...</td>\n",
       "      <td>3272.0</td>\n",
       "      <td>3455.0</td>\n",
       "      <td>3261.0</td>\n",
       "      <td>0.0</td>\n",
       "      <td>1000.0</td>\n",
       "      <td>1000.0</td>\n",
       "      <td>1000.0</td>\n",
       "      <td>0.0</td>\n",
       "      <td>2000.0</td>\n",
       "      <td>1</td>\n",
       "    </tr>\n",
       "    <tr>\n",
       "      <th>2</th>\n",
       "      <td>90000.0</td>\n",
       "      <td>2</td>\n",
       "      <td>2</td>\n",
       "      <td>2</td>\n",
       "      <td>34</td>\n",
       "      <td>0</td>\n",
       "      <td>0</td>\n",
       "      <td>0</td>\n",
       "      <td>0</td>\n",
       "      <td>0</td>\n",
       "      <td>...</td>\n",
       "      <td>14331.0</td>\n",
       "      <td>14948.0</td>\n",
       "      <td>15549.0</td>\n",
       "      <td>1518.0</td>\n",
       "      <td>1500.0</td>\n",
       "      <td>1000.0</td>\n",
       "      <td>1000.0</td>\n",
       "      <td>1000.0</td>\n",
       "      <td>5000.0</td>\n",
       "      <td>0</td>\n",
       "    </tr>\n",
       "    <tr>\n",
       "      <th>3</th>\n",
       "      <td>50000.0</td>\n",
       "      <td>2</td>\n",
       "      <td>2</td>\n",
       "      <td>1</td>\n",
       "      <td>37</td>\n",
       "      <td>0</td>\n",
       "      <td>0</td>\n",
       "      <td>0</td>\n",
       "      <td>0</td>\n",
       "      <td>0</td>\n",
       "      <td>...</td>\n",
       "      <td>28314.0</td>\n",
       "      <td>28959.0</td>\n",
       "      <td>29547.0</td>\n",
       "      <td>2000.0</td>\n",
       "      <td>2019.0</td>\n",
       "      <td>1200.0</td>\n",
       "      <td>1100.0</td>\n",
       "      <td>1069.0</td>\n",
       "      <td>1000.0</td>\n",
       "      <td>0</td>\n",
       "    </tr>\n",
       "    <tr>\n",
       "      <th>4</th>\n",
       "      <td>50000.0</td>\n",
       "      <td>1</td>\n",
       "      <td>2</td>\n",
       "      <td>1</td>\n",
       "      <td>57</td>\n",
       "      <td>-1</td>\n",
       "      <td>0</td>\n",
       "      <td>-1</td>\n",
       "      <td>0</td>\n",
       "      <td>0</td>\n",
       "      <td>...</td>\n",
       "      <td>20940.0</td>\n",
       "      <td>19146.0</td>\n",
       "      <td>19131.0</td>\n",
       "      <td>2000.0</td>\n",
       "      <td>36681.0</td>\n",
       "      <td>10000.0</td>\n",
       "      <td>9000.0</td>\n",
       "      <td>689.0</td>\n",
       "      <td>679.0</td>\n",
       "      <td>0</td>\n",
       "    </tr>\n",
       "  </tbody>\n",
       "</table>\n",
       "<p>5 rows × 24 columns</p>\n",
       "</div>"
      ],
      "text/plain": [
       "   LIMIT_BAL  SEX  EDUCATION  MARRIAGE  AGE  PAY_0  PAY_2  PAY_3  PAY_4  \\\n",
       "0    20000.0    2          2         1   24      2      2     -1     -1   \n",
       "1   120000.0    2          2         2   26     -1      2      0      0   \n",
       "2    90000.0    2          2         2   34      0      0      0      0   \n",
       "3    50000.0    2          2         1   37      0      0      0      0   \n",
       "4    50000.0    1          2         1   57     -1      0     -1      0   \n",
       "\n",
       "   PAY_5  ...  BILL_AMT4  BILL_AMT5  BILL_AMT6  PAY_AMT1  PAY_AMT2  PAY_AMT3  \\\n",
       "0     -2  ...        0.0        0.0        0.0       0.0     689.0       0.0   \n",
       "1      0  ...     3272.0     3455.0     3261.0       0.0    1000.0    1000.0   \n",
       "2      0  ...    14331.0    14948.0    15549.0    1518.0    1500.0    1000.0   \n",
       "3      0  ...    28314.0    28959.0    29547.0    2000.0    2019.0    1200.0   \n",
       "4      0  ...    20940.0    19146.0    19131.0    2000.0   36681.0   10000.0   \n",
       "\n",
       "   PAY_AMT4  PAY_AMT5  PAY_AMT6  default.payment.next.month  \n",
       "0       0.0       0.0       0.0                           1  \n",
       "1    1000.0       0.0    2000.0                           1  \n",
       "2    1000.0    1000.0    5000.0                           0  \n",
       "3    1100.0    1069.0    1000.0                           0  \n",
       "4    9000.0     689.0     679.0                           0  \n",
       "\n",
       "[5 rows x 24 columns]"
      ]
     },
     "execution_count": 2,
     "metadata": {},
     "output_type": "execute_result"
    }
   ],
   "source": [
    "#Importing the data and taking a first look at it.  \n",
    "df = pd.read_csv('UCI_Credit_Card.csv').drop('ID', axis=1)\n",
    "df.head()"
   ]
  },
  {
   "cell_type": "code",
   "execution_count": 3,
   "metadata": {},
   "outputs": [
    {
     "name": "stdout",
     "output_type": "stream",
     "text": [
      "<class 'pandas.core.frame.DataFrame'>\n",
      "RangeIndex: 30000 entries, 0 to 29999\n",
      "Data columns (total 24 columns):\n",
      " #   Column                      Non-Null Count  Dtype  \n",
      "---  ------                      --------------  -----  \n",
      " 0   LIMIT_BAL                   30000 non-null  float64\n",
      " 1   SEX                         30000 non-null  int64  \n",
      " 2   EDUCATION                   30000 non-null  int64  \n",
      " 3   MARRIAGE                    30000 non-null  int64  \n",
      " 4   AGE                         30000 non-null  int64  \n",
      " 5   PAY_0                       30000 non-null  int64  \n",
      " 6   PAY_2                       30000 non-null  int64  \n",
      " 7   PAY_3                       30000 non-null  int64  \n",
      " 8   PAY_4                       30000 non-null  int64  \n",
      " 9   PAY_5                       30000 non-null  int64  \n",
      " 10  PAY_6                       30000 non-null  int64  \n",
      " 11  BILL_AMT1                   30000 non-null  float64\n",
      " 12  BILL_AMT2                   30000 non-null  float64\n",
      " 13  BILL_AMT3                   30000 non-null  float64\n",
      " 14  BILL_AMT4                   30000 non-null  float64\n",
      " 15  BILL_AMT5                   30000 non-null  float64\n",
      " 16  BILL_AMT6                   30000 non-null  float64\n",
      " 17  PAY_AMT1                    30000 non-null  float64\n",
      " 18  PAY_AMT2                    30000 non-null  float64\n",
      " 19  PAY_AMT3                    30000 non-null  float64\n",
      " 20  PAY_AMT4                    30000 non-null  float64\n",
      " 21  PAY_AMT5                    30000 non-null  float64\n",
      " 22  PAY_AMT6                    30000 non-null  float64\n",
      " 23  default.payment.next.month  30000 non-null  int64  \n",
      "dtypes: float64(13), int64(11)\n",
      "memory usage: 5.5 MB\n"
     ]
    }
   ],
   "source": [
    "#Examining some basic information about the data set.  \n",
    "df.info()"
   ]
  },
  {
   "cell_type": "code",
   "execution_count": 4,
   "metadata": {},
   "outputs": [
    {
     "name": "stdout",
     "output_type": "stream",
     "text": [
      "['SEX', 'EDUCATION', 'MARRIAGE', 'AGE', 'PAY_0', 'PAY_2', 'PAY_3', 'PAY_4', 'PAY_5', 'PAY_6', 'default.payment.next.month']\n",
      "['LIMIT_BAL', 'BILL_AMT1', 'BILL_AMT2', 'BILL_AMT3', 'BILL_AMT4', 'BILL_AMT5', 'BILL_AMT6', 'PAY_AMT1', 'PAY_AMT2', 'PAY_AMT3', 'PAY_AMT4', 'PAY_AMT5', 'PAY_AMT6']\n"
     ]
    }
   ],
   "source": [
    "#Separating the data into categorical and continuous variables.\n",
    "cats = []\n",
    "conts = []\n",
    "for col in df.columns:\n",
    "    if df[col].nunique() <= 75:\n",
    "        cats.append(col)\n",
    "    else:\n",
    "        conts.append(col)\n",
    "df_cats = df.loc[:,cats]\n",
    "df_conts = df.loc[:,conts]\n",
    "print(cats)\n",
    "print(conts)"
   ]
  },
  {
   "cell_type": "code",
   "execution_count": 5,
   "metadata": {},
   "outputs": [
    {
     "data": {
      "text/html": [
       "<div>\n",
       "<style scoped>\n",
       "    .dataframe tbody tr th:only-of-type {\n",
       "        vertical-align: middle;\n",
       "    }\n",
       "\n",
       "    .dataframe tbody tr th {\n",
       "        vertical-align: top;\n",
       "    }\n",
       "\n",
       "    .dataframe thead th {\n",
       "        text-align: right;\n",
       "    }\n",
       "</style>\n",
       "<table border=\"1\" class=\"dataframe\">\n",
       "  <thead>\n",
       "    <tr style=\"text-align: right;\">\n",
       "      <th></th>\n",
       "      <th>LIMIT_BAL</th>\n",
       "      <th>BILL_AMT1</th>\n",
       "      <th>BILL_AMT2</th>\n",
       "      <th>BILL_AMT3</th>\n",
       "      <th>BILL_AMT4</th>\n",
       "      <th>BILL_AMT5</th>\n",
       "      <th>BILL_AMT6</th>\n",
       "      <th>PAY_AMT1</th>\n",
       "      <th>PAY_AMT2</th>\n",
       "      <th>PAY_AMT3</th>\n",
       "      <th>PAY_AMT4</th>\n",
       "      <th>PAY_AMT5</th>\n",
       "      <th>PAY_AMT6</th>\n",
       "    </tr>\n",
       "  </thead>\n",
       "  <tbody>\n",
       "    <tr>\n",
       "      <th>count</th>\n",
       "      <td>30000.000000</td>\n",
       "      <td>30000.000000</td>\n",
       "      <td>30000.000000</td>\n",
       "      <td>3.000000e+04</td>\n",
       "      <td>30000.000000</td>\n",
       "      <td>30000.000000</td>\n",
       "      <td>30000.000000</td>\n",
       "      <td>30000.000000</td>\n",
       "      <td>3.000000e+04</td>\n",
       "      <td>30000.00000</td>\n",
       "      <td>30000.000000</td>\n",
       "      <td>30000.000000</td>\n",
       "      <td>30000.000000</td>\n",
       "    </tr>\n",
       "    <tr>\n",
       "      <th>mean</th>\n",
       "      <td>167484.322667</td>\n",
       "      <td>51223.330900</td>\n",
       "      <td>49179.075167</td>\n",
       "      <td>4.701315e+04</td>\n",
       "      <td>43262.948967</td>\n",
       "      <td>40311.400967</td>\n",
       "      <td>38871.760400</td>\n",
       "      <td>5663.580500</td>\n",
       "      <td>5.921163e+03</td>\n",
       "      <td>5225.68150</td>\n",
       "      <td>4826.076867</td>\n",
       "      <td>4799.387633</td>\n",
       "      <td>5215.502567</td>\n",
       "    </tr>\n",
       "    <tr>\n",
       "      <th>std</th>\n",
       "      <td>129747.661567</td>\n",
       "      <td>73635.860576</td>\n",
       "      <td>71173.768783</td>\n",
       "      <td>6.934939e+04</td>\n",
       "      <td>64332.856134</td>\n",
       "      <td>60797.155770</td>\n",
       "      <td>59554.107537</td>\n",
       "      <td>16563.280354</td>\n",
       "      <td>2.304087e+04</td>\n",
       "      <td>17606.96147</td>\n",
       "      <td>15666.159744</td>\n",
       "      <td>15278.305679</td>\n",
       "      <td>17777.465775</td>\n",
       "    </tr>\n",
       "    <tr>\n",
       "      <th>min</th>\n",
       "      <td>10000.000000</td>\n",
       "      <td>-165580.000000</td>\n",
       "      <td>-69777.000000</td>\n",
       "      <td>-1.572640e+05</td>\n",
       "      <td>-170000.000000</td>\n",
       "      <td>-81334.000000</td>\n",
       "      <td>-339603.000000</td>\n",
       "      <td>0.000000</td>\n",
       "      <td>0.000000e+00</td>\n",
       "      <td>0.00000</td>\n",
       "      <td>0.000000</td>\n",
       "      <td>0.000000</td>\n",
       "      <td>0.000000</td>\n",
       "    </tr>\n",
       "    <tr>\n",
       "      <th>25%</th>\n",
       "      <td>50000.000000</td>\n",
       "      <td>3558.750000</td>\n",
       "      <td>2984.750000</td>\n",
       "      <td>2.666250e+03</td>\n",
       "      <td>2326.750000</td>\n",
       "      <td>1763.000000</td>\n",
       "      <td>1256.000000</td>\n",
       "      <td>1000.000000</td>\n",
       "      <td>8.330000e+02</td>\n",
       "      <td>390.00000</td>\n",
       "      <td>296.000000</td>\n",
       "      <td>252.500000</td>\n",
       "      <td>117.750000</td>\n",
       "    </tr>\n",
       "    <tr>\n",
       "      <th>50%</th>\n",
       "      <td>140000.000000</td>\n",
       "      <td>22381.500000</td>\n",
       "      <td>21200.000000</td>\n",
       "      <td>2.008850e+04</td>\n",
       "      <td>19052.000000</td>\n",
       "      <td>18104.500000</td>\n",
       "      <td>17071.000000</td>\n",
       "      <td>2100.000000</td>\n",
       "      <td>2.009000e+03</td>\n",
       "      <td>1800.00000</td>\n",
       "      <td>1500.000000</td>\n",
       "      <td>1500.000000</td>\n",
       "      <td>1500.000000</td>\n",
       "    </tr>\n",
       "    <tr>\n",
       "      <th>75%</th>\n",
       "      <td>240000.000000</td>\n",
       "      <td>67091.000000</td>\n",
       "      <td>64006.250000</td>\n",
       "      <td>6.016475e+04</td>\n",
       "      <td>54506.000000</td>\n",
       "      <td>50190.500000</td>\n",
       "      <td>49198.250000</td>\n",
       "      <td>5006.000000</td>\n",
       "      <td>5.000000e+03</td>\n",
       "      <td>4505.00000</td>\n",
       "      <td>4013.250000</td>\n",
       "      <td>4031.500000</td>\n",
       "      <td>4000.000000</td>\n",
       "    </tr>\n",
       "    <tr>\n",
       "      <th>max</th>\n",
       "      <td>1000000.000000</td>\n",
       "      <td>964511.000000</td>\n",
       "      <td>983931.000000</td>\n",
       "      <td>1.664089e+06</td>\n",
       "      <td>891586.000000</td>\n",
       "      <td>927171.000000</td>\n",
       "      <td>961664.000000</td>\n",
       "      <td>873552.000000</td>\n",
       "      <td>1.684259e+06</td>\n",
       "      <td>896040.00000</td>\n",
       "      <td>621000.000000</td>\n",
       "      <td>426529.000000</td>\n",
       "      <td>528666.000000</td>\n",
       "    </tr>\n",
       "  </tbody>\n",
       "</table>\n",
       "</div>"
      ],
      "text/plain": [
       "            LIMIT_BAL      BILL_AMT1      BILL_AMT2     BILL_AMT3  \\\n",
       "count    30000.000000   30000.000000   30000.000000  3.000000e+04   \n",
       "mean    167484.322667   51223.330900   49179.075167  4.701315e+04   \n",
       "std     129747.661567   73635.860576   71173.768783  6.934939e+04   \n",
       "min      10000.000000 -165580.000000  -69777.000000 -1.572640e+05   \n",
       "25%      50000.000000    3558.750000    2984.750000  2.666250e+03   \n",
       "50%     140000.000000   22381.500000   21200.000000  2.008850e+04   \n",
       "75%     240000.000000   67091.000000   64006.250000  6.016475e+04   \n",
       "max    1000000.000000  964511.000000  983931.000000  1.664089e+06   \n",
       "\n",
       "           BILL_AMT4      BILL_AMT5      BILL_AMT6       PAY_AMT1  \\\n",
       "count   30000.000000   30000.000000   30000.000000   30000.000000   \n",
       "mean    43262.948967   40311.400967   38871.760400    5663.580500   \n",
       "std     64332.856134   60797.155770   59554.107537   16563.280354   \n",
       "min   -170000.000000  -81334.000000 -339603.000000       0.000000   \n",
       "25%      2326.750000    1763.000000    1256.000000    1000.000000   \n",
       "50%     19052.000000   18104.500000   17071.000000    2100.000000   \n",
       "75%     54506.000000   50190.500000   49198.250000    5006.000000   \n",
       "max    891586.000000  927171.000000  961664.000000  873552.000000   \n",
       "\n",
       "           PAY_AMT2      PAY_AMT3       PAY_AMT4       PAY_AMT5       PAY_AMT6  \n",
       "count  3.000000e+04   30000.00000   30000.000000   30000.000000   30000.000000  \n",
       "mean   5.921163e+03    5225.68150    4826.076867    4799.387633    5215.502567  \n",
       "std    2.304087e+04   17606.96147   15666.159744   15278.305679   17777.465775  \n",
       "min    0.000000e+00       0.00000       0.000000       0.000000       0.000000  \n",
       "25%    8.330000e+02     390.00000     296.000000     252.500000     117.750000  \n",
       "50%    2.009000e+03    1800.00000    1500.000000    1500.000000    1500.000000  \n",
       "75%    5.000000e+03    4505.00000    4013.250000    4031.500000    4000.000000  \n",
       "max    1.684259e+06  896040.00000  621000.000000  426529.000000  528666.000000  "
      ]
     },
     "execution_count": 5,
     "metadata": {},
     "output_type": "execute_result"
    },
    {
     "data": {
      "image/png": "[encoded data removed]",
      "text/plain": [
       "<Figure size 864x720 with 16 Axes>"
      ]
     },
     "metadata": {
      "needs_background": "light"
     },
     "output_type": "display_data"
    }
   ],
   "source": [
    "# Looking at the continuous variables in a bit more detail\n",
    "df_conts.hist(figsize=(12,10))\n",
    "df_conts.describe()"
   ]
  },
  {
   "cell_type": "markdown",
   "metadata": {},
   "source": [
    "# Continue Exploration with Data Cleaning\n",
    "Now that I've gotten a very basic look at the data, there are some issues that will need to be addressed through data  cleaning.  This can be done as we continue to explore the data.  For example, there are a few variables stored as ones and twos when it would make more sense (at least for my purposes) to store them as zero and one.  I will also be splitting the data for the first time to take a very early look at our features using Ridge and Lasso regressions.  "
   ]
  },
  {
   "cell_type": "code",
   "execution_count": 6,
   "metadata": {},
   "outputs": [],
   "source": [
    "# Creating function to drop outliers\n",
    "# Creating a function to split data more easily\n",
    "# Creating a function to transform the data\n",
    "def drop_outliers(df, z_score=3):\n",
    "    constrains = df.select_dtypes(include=[np.number]) \\\n",
    "        .apply(lambda x: np.abs(stats.zscore(x)) < z_score, result_type='reduce') \\\n",
    "        .all(axis=1)\n",
    "    df.drop(df.index[~constrains], inplace=True)\n",
    "    \n",
    "def my_split(features, target):\n",
    "    global X_train, X_test, y_train, y_test\n",
    "    X_train, X_test, y_train, y_test = train_test_split(features, target, random_state=25)\n",
    "    \n",
    "def my_transform(X_train, X_test, binary=True):\n",
    "    global X_train_transformed\n",
    "    global X_test_transformed\n",
    "    X_train_transformed = pd.DataFrame(scaler.fit_transform(X_train), \\\n",
    "                                       columns=X_train.columns, index=X_train.index)\n",
    "    X_test_transformed = pd.DataFrame(scaler.transform(X_test), \\\n",
    "                                      columns=X_train.columns, index=X_test.index)\n",
    "    if binary == True:\n",
    "        X_train_transformed[binary_features] = X_train[binary_features]\n",
    "        X_test_transformed[binary_features] = X_test[binary_features]"
   ]
  },
  {
   "cell_type": "code",
   "execution_count": 7,
   "metadata": {},
   "outputs": [],
   "source": [
    "# Dropping outliers from the continuous variables\n",
    "new_df_conts = df_conts\n",
    "drop_outliers(new_df_conts)"
   ]
  },
  {
   "cell_type": "code",
   "execution_count": 8,
   "metadata": {},
   "outputs": [],
   "source": [
    "# Joining the remaining continuous data with the rest so that the indexes match\n",
    "# Splitting data into training and test sets\n",
    "#Created a function to make splitting data faster\n",
    "test_df = new_df_conts.merge(df_cats, left_index=True, right_index=True).reset_index(drop=True)\n",
    "target = test_df['default.payment.next.month']\n",
    "features = test_df.drop(['default.payment.next.month'], axis=1)\n",
    "\n",
    "my_split(features,target)"
   ]
  },
  {
   "cell_type": "code",
   "execution_count": 9,
   "metadata": {},
   "outputs": [],
   "source": [
    "# Setting up MinMaxScaler and transforming the data.\n",
    "\n",
    "scaler = MinMaxScaler()\n",
    "my_transform(X_train, X_test, binary=False)"
   ]
  },
  {
   "cell_type": "code",
   "execution_count": 10,
   "metadata": {},
   "outputs": [],
   "source": [
    "# Initializing Ridge, Lasso, and Linear Regression\n",
    "\n",
    "ridge = Ridge(alpha=0.001)\n",
    "ridge.fit(X_train_transformed, y_train)\n",
    "\n",
    "lasso = Lasso(alpha=0.001)\n",
    "lasso.fit(X_train_transformed, y_train)\n",
    "\n",
    "lin = LinearRegression()\n",
    "lin.fit(X_train_transformed, y_train)\n",
    "\n",
    "train_len = len(X_train_transformed)\n",
    "test_len = len(X_test_transformed)"
   ]
  },
  {
   "cell_type": "code",
   "execution_count": 11,
   "metadata": {},
   "outputs": [],
   "source": [
    "# Generate predictions for training and test sets\n",
    "y_h_ridge_train = ridge.predict(X_train_transformed)\n",
    "y_h_ridge_test = ridge.predict(X_test_transformed)\n",
    "\n",
    "y_h_lasso_train = np.reshape(lasso.predict(X_train_transformed), (train_len,))\n",
    "y_h_lasso_test = np.reshape(lasso.predict(X_test_transformed), (test_len,))\n",
    "\n",
    "y_h_lin_train = lin.predict(X_train_transformed)\n",
    "y_h_lin_test = lin.predict(X_test_transformed)"
   ]
  },
  {
   "cell_type": "code",
   "execution_count": 12,
   "metadata": {},
   "outputs": [
    {
     "name": "stdout",
     "output_type": "stream",
     "text": [
      "Train Error Ridge Model 3109.2173924801286\n",
      "Test Error Ridge Model 1053.6159719802597\n",
      "\n",
      "\n",
      "Train Error Lasso Model 3124.350023824495\n",
      "Test Error Lasso Model 1056.0368804641553\n",
      "\n",
      "\n",
      "Train Error Unpenalized Linear Model 3109.2173924577746\n",
      "Test Error Unpenalized Linear Model 1053.6161096208266\n"
     ]
    }
   ],
   "source": [
    "# Printing a read-out displaying the relevant error information.\n",
    "\n",
    "print('Train Error Ridge Model', np.sum((y_train - y_h_ridge_train)**2))\n",
    "print('Test Error Ridge Model', np.sum((y_test - y_h_ridge_test)**2))\n",
    "print('\\n')\n",
    "\n",
    "print('Train Error Lasso Model', np.sum((y_train - y_h_lasso_train)**2))\n",
    "print('Test Error Lasso Model', np.sum((y_test - y_h_lasso_test)**2))\n",
    "print('\\n')\n",
    "\n",
    "print('Train Error Unpenalized Linear Model', np.sum((y_train - lin.predict(X_train_transformed))**2))\n",
    "print('Test Error Unpenalized Linear Model', np.sum((y_test - lin.predict(X_test_transformed))**2))"
   ]
  },
  {
   "cell_type": "code",
   "execution_count": 13,
   "metadata": {},
   "outputs": [
    {
     "name": "stdout",
     "output_type": "stream",
     "text": [
      "Ridge parameter coefficients: [-0.02628787 -0.30215217 -0.11244673  0.14367561  0.02749053 -0.21434135\n",
      "  0.26850965 -0.06645098 -0.17287523 -0.10006972 -0.02605451 -0.15004638\n",
      " -0.04005881 -0.01284224 -0.10921082 -0.07722793  0.06666847  0.91606123\n",
      "  0.25092116  0.0662691   0.10779845  0.03270679  0.0171107 ]\n",
      "Lasso parameter coefficients: [-0.02992497 -0.20662107 -0.         -0.         -0.         -0.\n",
      "  0.         -0.05391711 -0.07190618 -0.061687   -0.00738643 -0.06837494\n",
      " -0.00325449 -0.01096938 -0.0180357  -0.04701335  0.02664117  0.8943802\n",
      "  0.22268514  0.06604789  0.09825724  0.00714278  0.00457117]\n",
      "Linear model parameter coefficients: [-0.02628742 -0.30215609 -0.11245077  0.14368681  0.02749451 -0.21437264\n",
      "  0.26853351 -0.06644986 -0.17287802 -0.1000692  -0.02605082 -0.15005088\n",
      " -0.04005793 -0.01284225 -0.10921125 -0.077228    0.06666858  0.91606685\n",
      "  0.25092095  0.06626746  0.10779827  0.03270685  0.01710954]\n"
     ]
    }
   ],
   "source": [
    "# Examining the coefficients (especially Lasso as it can be used for feature elimination)\n",
    "# Here we also see the answer to one of our original questions\n",
    "# A few of the Lasso coefficients are much larger than average\n",
    "# This is a good indication that these are strong predictors\n",
    "\n",
    "print('Ridge parameter coefficients:', ridge.coef_)\n",
    "print('Lasso parameter coefficients:', lasso.coef_)\n",
    "print('Linear model parameter coefficients:', lin.coef_)"
   ]
  },
  {
   "cell_type": "code",
   "execution_count": 14,
   "metadata": {},
   "outputs": [
    {
     "data": {
      "text/html": [
       "<div>\n",
       "<style scoped>\n",
       "    .dataframe tbody tr th:only-of-type {\n",
       "        vertical-align: middle;\n",
       "    }\n",
       "\n",
       "    .dataframe tbody tr th {\n",
       "        vertical-align: top;\n",
       "    }\n",
       "\n",
       "    .dataframe thead th {\n",
       "        text-align: right;\n",
       "    }\n",
       "</style>\n",
       "<table border=\"1\" class=\"dataframe\">\n",
       "  <thead>\n",
       "    <tr style=\"text-align: right;\">\n",
       "      <th></th>\n",
       "      <th>LIMIT_BAL</th>\n",
       "      <th>SEX</th>\n",
       "      <th>EDUCATION</th>\n",
       "      <th>MARRIAGE</th>\n",
       "      <th>AGE</th>\n",
       "      <th>PAY_0</th>\n",
       "      <th>PAY_2</th>\n",
       "      <th>PAY_3</th>\n",
       "      <th>PAY_4</th>\n",
       "      <th>PAY_5</th>\n",
       "      <th>...</th>\n",
       "      <th>PAY_AMT3</th>\n",
       "      <th>PAY_AMT4</th>\n",
       "      <th>PAY_AMT5</th>\n",
       "      <th>PAY_AMT6</th>\n",
       "      <th>default.payment.next.month</th>\n",
       "      <th>PRCT_1</th>\n",
       "      <th>PRCT_2</th>\n",
       "      <th>PRCT_3</th>\n",
       "      <th>PRCT_4</th>\n",
       "      <th>PRCT_5</th>\n",
       "    </tr>\n",
       "  </thead>\n",
       "  <tbody>\n",
       "    <tr>\n",
       "      <th>0</th>\n",
       "      <td>20000.0</td>\n",
       "      <td>2</td>\n",
       "      <td>2</td>\n",
       "      <td>1</td>\n",
       "      <td>24</td>\n",
       "      <td>2</td>\n",
       "      <td>2</td>\n",
       "      <td>-1</td>\n",
       "      <td>-1</td>\n",
       "      <td>-2</td>\n",
       "      <td>...</td>\n",
       "      <td>0.0</td>\n",
       "      <td>0.0</td>\n",
       "      <td>0.0</td>\n",
       "      <td>0.0</td>\n",
       "      <td>1</td>\n",
       "      <td>0.000000</td>\n",
       "      <td>1.000000</td>\n",
       "      <td>NaN</td>\n",
       "      <td>NaN</td>\n",
       "      <td>NaN</td>\n",
       "    </tr>\n",
       "    <tr>\n",
       "      <th>1</th>\n",
       "      <td>120000.0</td>\n",
       "      <td>2</td>\n",
       "      <td>2</td>\n",
       "      <td>2</td>\n",
       "      <td>26</td>\n",
       "      <td>-1</td>\n",
       "      <td>2</td>\n",
       "      <td>0</td>\n",
       "      <td>0</td>\n",
       "      <td>0</td>\n",
       "      <td>...</td>\n",
       "      <td>1000.0</td>\n",
       "      <td>1000.0</td>\n",
       "      <td>0.0</td>\n",
       "      <td>2000.0</td>\n",
       "      <td>1</td>\n",
       "      <td>0.000000</td>\n",
       "      <td>0.372856</td>\n",
       "      <td>0.305623</td>\n",
       "      <td>0.289436</td>\n",
       "      <td>0.000000</td>\n",
       "    </tr>\n",
       "    <tr>\n",
       "      <th>2</th>\n",
       "      <td>90000.0</td>\n",
       "      <td>2</td>\n",
       "      <td>2</td>\n",
       "      <td>2</td>\n",
       "      <td>34</td>\n",
       "      <td>0</td>\n",
       "      <td>0</td>\n",
       "      <td>0</td>\n",
       "      <td>0</td>\n",
       "      <td>0</td>\n",
       "      <td>...</td>\n",
       "      <td>1000.0</td>\n",
       "      <td>1000.0</td>\n",
       "      <td>1000.0</td>\n",
       "      <td>5000.0</td>\n",
       "      <td>0</td>\n",
       "      <td>0.108220</td>\n",
       "      <td>0.110628</td>\n",
       "      <td>0.069779</td>\n",
       "      <td>0.066899</td>\n",
       "      <td>0.064313</td>\n",
       "    </tr>\n",
       "    <tr>\n",
       "      <th>3</th>\n",
       "      <td>50000.0</td>\n",
       "      <td>2</td>\n",
       "      <td>2</td>\n",
       "      <td>1</td>\n",
       "      <td>37</td>\n",
       "      <td>0</td>\n",
       "      <td>0</td>\n",
       "      <td>0</td>\n",
       "      <td>0</td>\n",
       "      <td>0</td>\n",
       "      <td>...</td>\n",
       "      <td>1200.0</td>\n",
       "      <td>1100.0</td>\n",
       "      <td>1069.0</td>\n",
       "      <td>1000.0</td>\n",
       "      <td>0</td>\n",
       "      <td>0.041465</td>\n",
       "      <td>0.040961</td>\n",
       "      <td>0.042382</td>\n",
       "      <td>0.037985</td>\n",
       "      <td>0.036180</td>\n",
       "    </tr>\n",
       "    <tr>\n",
       "      <th>4</th>\n",
       "      <td>50000.0</td>\n",
       "      <td>1</td>\n",
       "      <td>2</td>\n",
       "      <td>1</td>\n",
       "      <td>57</td>\n",
       "      <td>-1</td>\n",
       "      <td>0</td>\n",
       "      <td>-1</td>\n",
       "      <td>0</td>\n",
       "      <td>0</td>\n",
       "      <td>...</td>\n",
       "      <td>10000.0</td>\n",
       "      <td>9000.0</td>\n",
       "      <td>689.0</td>\n",
       "      <td>679.0</td>\n",
       "      <td>0</td>\n",
       "      <td>0.352734</td>\n",
       "      <td>1.023608</td>\n",
       "      <td>0.477555</td>\n",
       "      <td>0.470072</td>\n",
       "      <td>0.036015</td>\n",
       "    </tr>\n",
       "  </tbody>\n",
       "</table>\n",
       "<p>5 rows × 29 columns</p>\n",
       "</div>"
      ],
      "text/plain": [
       "   LIMIT_BAL  SEX  EDUCATION  MARRIAGE  AGE  PAY_0  PAY_2  PAY_3  PAY_4  \\\n",
       "0    20000.0    2          2         1   24      2      2     -1     -1   \n",
       "1   120000.0    2          2         2   26     -1      2      0      0   \n",
       "2    90000.0    2          2         2   34      0      0      0      0   \n",
       "3    50000.0    2          2         1   37      0      0      0      0   \n",
       "4    50000.0    1          2         1   57     -1      0     -1      0   \n",
       "\n",
       "   PAY_5  ...  PAY_AMT3  PAY_AMT4  PAY_AMT5  PAY_AMT6  \\\n",
       "0     -2  ...       0.0       0.0       0.0       0.0   \n",
       "1      0  ...    1000.0    1000.0       0.0    2000.0   \n",
       "2      0  ...    1000.0    1000.0    1000.0    5000.0   \n",
       "3      0  ...    1200.0    1100.0    1069.0    1000.0   \n",
       "4      0  ...   10000.0    9000.0     689.0     679.0   \n",
       "\n",
       "   default.payment.next.month    PRCT_1    PRCT_2    PRCT_3    PRCT_4  \\\n",
       "0                           1  0.000000  1.000000       NaN       NaN   \n",
       "1                           1  0.000000  0.372856  0.305623  0.289436   \n",
       "2                           0  0.108220  0.110628  0.069779  0.066899   \n",
       "3                           0  0.041465  0.040961  0.042382  0.037985   \n",
       "4                           0  0.352734  1.023608  0.477555  0.470072   \n",
       "\n",
       "     PRCT_5  \n",
       "0       NaN  \n",
       "1  0.000000  \n",
       "2  0.064313  \n",
       "3  0.036180  \n",
       "4  0.036015  \n",
       "\n",
       "[5 rows x 29 columns]"
      ]
     },
     "execution_count": 14,
     "metadata": {},
     "output_type": "execute_result"
    }
   ],
   "source": [
    "# Initial Lasso suggests that all 'BILL' columns except the first one can be dropped\n",
    "# Returning to the original dataframe since I want to add new columns\n",
    "# And outliers will need to be dropped again\n",
    "# Doing this prevents dropping outliers from the same data twice\n",
    "# Also making a for loop to make new columns showing percent of bill paid monthly\n",
    "for x in range(0,5):\n",
    "    df['PRCT_{val}'.format(val=x+1)] = df['PAY_AMT{val}'.format(val=x+1)] \\\n",
    "    / df['BILL_AMT{val}'.format(val=x+2)]\n",
    "df.head()"
   ]
  },
  {
   "cell_type": "code",
   "execution_count": 15,
   "metadata": {},
   "outputs": [],
   "source": [
    "# Changed the 'SEX' variable to a dummy variable representing 'female' so it would be less confusing\n",
    "# Created a dummy variable signifying 'married'\n",
    "df['FEMALE'] = df['SEX'] - 1\n",
    "df['MARRIED'] = 0\n",
    "for x in range(0, len(df)):\n",
    "    if df.loc[x, 'MARRIAGE'] == 1:\n",
    "        df.loc[x, 'MARRIED'] = 1"
   ]
  },
  {
   "cell_type": "code",
   "execution_count": 16,
   "metadata": {},
   "outputs": [
    {
     "data": {
      "text/plain": [
       "5    280\n",
       "4    123\n",
       "6     51\n",
       "0     14\n",
       "Name: EDUCATION, dtype: int64"
      ]
     },
     "execution_count": 16,
     "metadata": {},
     "output_type": "execute_result"
    }
   ],
   "source": [
    "# Dropped unknown education levels \n",
    "unknown_edu = pd.concat([df[df['EDUCATION'] > 3], \\\n",
    "                        df[df['EDUCATION'] == 0]])\n",
    "\n",
    "unknown_list = unknown_edu.index.tolist()\n",
    "df = df.drop(index = unknown_list).reset_index(drop=True)\n",
    "unknown_edu['EDUCATION'].value_counts()"
   ]
  },
  {
   "cell_type": "code",
   "execution_count": 17,
   "metadata": {},
   "outputs": [],
   "source": [
    "# Creating dummy variables for Grad School and University\n",
    "# Leaving out high school to prevent perfect multicollinearity.  \n",
    "df['GRADSCHOOL'] = 0\n",
    "df['UNIVERSITY'] = 0\n",
    "for x in range(0, len(df)):\n",
    "    if df.loc[x, 'EDUCATION'] == 1:\n",
    "        df.loc[x, 'GRADSCHOOL'] = 1\n",
    "    elif df.loc[x, 'EDUCATION'] == 2:\n",
    "        df.loc[x, 'UNIVERSITY'] = 1"
   ]
  },
  {
   "cell_type": "code",
   "execution_count": 18,
   "metadata": {},
   "outputs": [],
   "source": [
    "# Creating a drop list - will be dropping 'BILL' columns as previously mentioned\n",
    "# Also dropping columns replaced by dummy variables\n",
    "drop_list = ['BILL_AMT2', 'BILL_AMT3', 'BILL_AMT4', 'BILL_AMT5', 'BILL_AMT6', \\\n",
    "            'EDUCATION', 'MARRIAGE', 'SEX']\n"
   ]
  },
  {
   "cell_type": "code",
   "execution_count": 20,
   "metadata": {},
   "outputs": [
    {
     "data": {
      "text/html": [
       "<div>\n",
       "<style scoped>\n",
       "    .dataframe tbody tr th:only-of-type {\n",
       "        vertical-align: middle;\n",
       "    }\n",
       "\n",
       "    .dataframe tbody tr th {\n",
       "        vertical-align: top;\n",
       "    }\n",
       "\n",
       "    .dataframe thead th {\n",
       "        text-align: right;\n",
       "    }\n",
       "</style>\n",
       "<table border=\"1\" class=\"dataframe\">\n",
       "  <thead>\n",
       "    <tr style=\"text-align: right;\">\n",
       "      <th></th>\n",
       "      <th>LIMIT_BAL</th>\n",
       "      <th>AGE</th>\n",
       "      <th>PAY_0</th>\n",
       "      <th>PAY_2</th>\n",
       "      <th>PAY_3</th>\n",
       "      <th>PAY_4</th>\n",
       "      <th>PAY_5</th>\n",
       "      <th>PAY_6</th>\n",
       "      <th>BILL_AMT1</th>\n",
       "      <th>PAY_AMT1</th>\n",
       "      <th>...</th>\n",
       "      <th>default.payment.next.month</th>\n",
       "      <th>PRCT_1</th>\n",
       "      <th>PRCT_2</th>\n",
       "      <th>PRCT_3</th>\n",
       "      <th>PRCT_4</th>\n",
       "      <th>PRCT_5</th>\n",
       "      <th>FEMALE</th>\n",
       "      <th>MARRIED</th>\n",
       "      <th>GRADSCHOOL</th>\n",
       "      <th>UNIVERSITY</th>\n",
       "    </tr>\n",
       "  </thead>\n",
       "  <tbody>\n",
       "    <tr>\n",
       "      <th>0</th>\n",
       "      <td>20000.0</td>\n",
       "      <td>24</td>\n",
       "      <td>2</td>\n",
       "      <td>2</td>\n",
       "      <td>-1</td>\n",
       "      <td>-1</td>\n",
       "      <td>-2</td>\n",
       "      <td>-2</td>\n",
       "      <td>3913.0</td>\n",
       "      <td>0.0</td>\n",
       "      <td>...</td>\n",
       "      <td>1</td>\n",
       "      <td>0.000000</td>\n",
       "      <td>1.000000</td>\n",
       "      <td>0.000000</td>\n",
       "      <td>0.000000</td>\n",
       "      <td>0.000000</td>\n",
       "      <td>1</td>\n",
       "      <td>1</td>\n",
       "      <td>0</td>\n",
       "      <td>1</td>\n",
       "    </tr>\n",
       "    <tr>\n",
       "      <th>1</th>\n",
       "      <td>120000.0</td>\n",
       "      <td>26</td>\n",
       "      <td>-1</td>\n",
       "      <td>2</td>\n",
       "      <td>0</td>\n",
       "      <td>0</td>\n",
       "      <td>0</td>\n",
       "      <td>2</td>\n",
       "      <td>2682.0</td>\n",
       "      <td>0.0</td>\n",
       "      <td>...</td>\n",
       "      <td>1</td>\n",
       "      <td>0.000000</td>\n",
       "      <td>0.372856</td>\n",
       "      <td>0.305623</td>\n",
       "      <td>0.289436</td>\n",
       "      <td>0.000000</td>\n",
       "      <td>1</td>\n",
       "      <td>0</td>\n",
       "      <td>0</td>\n",
       "      <td>1</td>\n",
       "    </tr>\n",
       "    <tr>\n",
       "      <th>2</th>\n",
       "      <td>90000.0</td>\n",
       "      <td>34</td>\n",
       "      <td>0</td>\n",
       "      <td>0</td>\n",
       "      <td>0</td>\n",
       "      <td>0</td>\n",
       "      <td>0</td>\n",
       "      <td>0</td>\n",
       "      <td>29239.0</td>\n",
       "      <td>1518.0</td>\n",
       "      <td>...</td>\n",
       "      <td>0</td>\n",
       "      <td>0.108220</td>\n",
       "      <td>0.110628</td>\n",
       "      <td>0.069779</td>\n",
       "      <td>0.066899</td>\n",
       "      <td>0.064313</td>\n",
       "      <td>1</td>\n",
       "      <td>0</td>\n",
       "      <td>0</td>\n",
       "      <td>1</td>\n",
       "    </tr>\n",
       "    <tr>\n",
       "      <th>3</th>\n",
       "      <td>50000.0</td>\n",
       "      <td>37</td>\n",
       "      <td>0</td>\n",
       "      <td>0</td>\n",
       "      <td>0</td>\n",
       "      <td>0</td>\n",
       "      <td>0</td>\n",
       "      <td>0</td>\n",
       "      <td>46990.0</td>\n",
       "      <td>2000.0</td>\n",
       "      <td>...</td>\n",
       "      <td>0</td>\n",
       "      <td>0.041465</td>\n",
       "      <td>0.040961</td>\n",
       "      <td>0.042382</td>\n",
       "      <td>0.037985</td>\n",
       "      <td>0.036180</td>\n",
       "      <td>1</td>\n",
       "      <td>1</td>\n",
       "      <td>0</td>\n",
       "      <td>1</td>\n",
       "    </tr>\n",
       "    <tr>\n",
       "      <th>4</th>\n",
       "      <td>50000.0</td>\n",
       "      <td>57</td>\n",
       "      <td>-1</td>\n",
       "      <td>0</td>\n",
       "      <td>-1</td>\n",
       "      <td>0</td>\n",
       "      <td>0</td>\n",
       "      <td>0</td>\n",
       "      <td>8617.0</td>\n",
       "      <td>2000.0</td>\n",
       "      <td>...</td>\n",
       "      <td>0</td>\n",
       "      <td>0.352734</td>\n",
       "      <td>1.023608</td>\n",
       "      <td>0.477555</td>\n",
       "      <td>0.470072</td>\n",
       "      <td>0.036015</td>\n",
       "      <td>0</td>\n",
       "      <td>1</td>\n",
       "      <td>0</td>\n",
       "      <td>1</td>\n",
       "    </tr>\n",
       "  </tbody>\n",
       "</table>\n",
       "<p>5 rows × 25 columns</p>\n",
       "</div>"
      ],
      "text/plain": [
       "   LIMIT_BAL  AGE  PAY_0  PAY_2  PAY_3  PAY_4  PAY_5  PAY_6  BILL_AMT1  \\\n",
       "0    20000.0   24      2      2     -1     -1     -2     -2     3913.0   \n",
       "1   120000.0   26     -1      2      0      0      0      2     2682.0   \n",
       "2    90000.0   34      0      0      0      0      0      0    29239.0   \n",
       "3    50000.0   37      0      0      0      0      0      0    46990.0   \n",
       "4    50000.0   57     -1      0     -1      0      0      0     8617.0   \n",
       "\n",
       "   PAY_AMT1  ...  default.payment.next.month    PRCT_1    PRCT_2    PRCT_3  \\\n",
       "0       0.0  ...                           1  0.000000  1.000000  0.000000   \n",
       "1       0.0  ...                           1  0.000000  0.372856  0.305623   \n",
       "2    1518.0  ...                           0  0.108220  0.110628  0.069779   \n",
       "3    2000.0  ...                           0  0.041465  0.040961  0.042382   \n",
       "4    2000.0  ...                           0  0.352734  1.023608  0.477555   \n",
       "\n",
       "     PRCT_4    PRCT_5  FEMALE  MARRIED  GRADSCHOOL  UNIVERSITY  \n",
       "0  0.000000  0.000000       1        1           0           1  \n",
       "1  0.289436  0.000000       1        0           0           1  \n",
       "2  0.066899  0.064313       1        0           0           1  \n",
       "3  0.037985  0.036180       1        1           0           1  \n",
       "4  0.470072  0.036015       0        1           0           1  \n",
       "\n",
       "[5 rows x 25 columns]"
      ]
     },
     "execution_count": 20,
     "metadata": {},
     "output_type": "execute_result"
    }
   ],
   "source": [
    "# Dropping the unnecessary columns and replacing the infinity and NaN values with 0\n",
    "# Since these were all created when the PAY_AMT was divided\n",
    "data = df.replace([np.inf, -np.inf], np.nan)\n",
    "data = data.drop(drop_list, axis=1).fillna(0)\n",
    "data.head()"
   ]
  },
  {
   "cell_type": "code",
   "execution_count": 21,
   "metadata": {},
   "outputs": [
    {
     "name": "stdout",
     "output_type": "stream",
     "text": [
      "CAT: ['AGE', 'PAY_0', 'PAY_2', 'PAY_3', 'PAY_4', 'PAY_5', 'PAY_6', 'default.payment.next.month', 'FEMALE', 'MARRIED', 'GRADSCHOOL', 'UNIVERSITY']\n",
      "CONT: ['LIMIT_BAL', 'BILL_AMT1', 'PAY_AMT1', 'PAY_AMT2', 'PAY_AMT3', 'PAY_AMT4', 'PAY_AMT5', 'PAY_AMT6', 'PRCT_1', 'PRCT_2', 'PRCT_3', 'PRCT_4', 'PRCT_5']\n"
     ]
    }
   ],
   "source": [
    "# Separating the data into categorical and continuous variables once again.\n",
    "cats = []\n",
    "conts = []\n",
    "for col in data.columns:\n",
    "    if data[col].nunique() <= 75:\n",
    "        cats.append(col)\n",
    "    else:\n",
    "        conts.append(col)\n",
    "df_cats = data.loc[:,cats]\n",
    "df_conts = data.loc[:,conts]\n",
    "print('CAT:', cats)\n",
    "print('CONT:', conts)"
   ]
  },
  {
   "cell_type": "code",
   "execution_count": 22,
   "metadata": {},
   "outputs": [],
   "source": [
    "# Dropping outliers once again\n",
    "new_df_conts = df_conts\n",
    "drop_outliers(new_df_conts)"
   ]
  },
  {
   "cell_type": "code",
   "execution_count": 23,
   "metadata": {},
   "outputs": [
    {
     "data": {
      "text/html": [
       "<div>\n",
       "<style scoped>\n",
       "    .dataframe tbody tr th:only-of-type {\n",
       "        vertical-align: middle;\n",
       "    }\n",
       "\n",
       "    .dataframe tbody tr th {\n",
       "        vertical-align: top;\n",
       "    }\n",
       "\n",
       "    .dataframe thead th {\n",
       "        text-align: right;\n",
       "    }\n",
       "</style>\n",
       "<table border=\"1\" class=\"dataframe\">\n",
       "  <thead>\n",
       "    <tr style=\"text-align: right;\">\n",
       "      <th></th>\n",
       "      <th>LIMIT_BAL</th>\n",
       "      <th>BILL_AMT1</th>\n",
       "      <th>PAY_AMT1</th>\n",
       "      <th>PAY_AMT2</th>\n",
       "      <th>PAY_AMT3</th>\n",
       "      <th>PAY_AMT4</th>\n",
       "      <th>PAY_AMT5</th>\n",
       "      <th>PAY_AMT6</th>\n",
       "      <th>PRCT_1</th>\n",
       "      <th>PRCT_2</th>\n",
       "      <th>...</th>\n",
       "      <th>PAY_2</th>\n",
       "      <th>PAY_3</th>\n",
       "      <th>PAY_4</th>\n",
       "      <th>PAY_5</th>\n",
       "      <th>PAY_6</th>\n",
       "      <th>default.payment.next.month</th>\n",
       "      <th>FEMALE</th>\n",
       "      <th>MARRIED</th>\n",
       "      <th>GRADSCHOOL</th>\n",
       "      <th>UNIVERSITY</th>\n",
       "    </tr>\n",
       "  </thead>\n",
       "  <tbody>\n",
       "    <tr>\n",
       "      <th>0</th>\n",
       "      <td>20000.0</td>\n",
       "      <td>3913.0</td>\n",
       "      <td>0.0</td>\n",
       "      <td>689.0</td>\n",
       "      <td>0.0</td>\n",
       "      <td>0.0</td>\n",
       "      <td>0.0</td>\n",
       "      <td>0.0</td>\n",
       "      <td>0.000000</td>\n",
       "      <td>1.000000</td>\n",
       "      <td>...</td>\n",
       "      <td>2</td>\n",
       "      <td>-1</td>\n",
       "      <td>-1</td>\n",
       "      <td>-2</td>\n",
       "      <td>-2</td>\n",
       "      <td>1</td>\n",
       "      <td>1</td>\n",
       "      <td>1</td>\n",
       "      <td>0</td>\n",
       "      <td>1</td>\n",
       "    </tr>\n",
       "    <tr>\n",
       "      <th>1</th>\n",
       "      <td>120000.0</td>\n",
       "      <td>2682.0</td>\n",
       "      <td>0.0</td>\n",
       "      <td>1000.0</td>\n",
       "      <td>1000.0</td>\n",
       "      <td>1000.0</td>\n",
       "      <td>0.0</td>\n",
       "      <td>2000.0</td>\n",
       "      <td>0.000000</td>\n",
       "      <td>0.372856</td>\n",
       "      <td>...</td>\n",
       "      <td>2</td>\n",
       "      <td>0</td>\n",
       "      <td>0</td>\n",
       "      <td>0</td>\n",
       "      <td>2</td>\n",
       "      <td>1</td>\n",
       "      <td>1</td>\n",
       "      <td>0</td>\n",
       "      <td>0</td>\n",
       "      <td>1</td>\n",
       "    </tr>\n",
       "    <tr>\n",
       "      <th>2</th>\n",
       "      <td>90000.0</td>\n",
       "      <td>29239.0</td>\n",
       "      <td>1518.0</td>\n",
       "      <td>1500.0</td>\n",
       "      <td>1000.0</td>\n",
       "      <td>1000.0</td>\n",
       "      <td>1000.0</td>\n",
       "      <td>5000.0</td>\n",
       "      <td>0.108220</td>\n",
       "      <td>0.110628</td>\n",
       "      <td>...</td>\n",
       "      <td>0</td>\n",
       "      <td>0</td>\n",
       "      <td>0</td>\n",
       "      <td>0</td>\n",
       "      <td>0</td>\n",
       "      <td>0</td>\n",
       "      <td>1</td>\n",
       "      <td>0</td>\n",
       "      <td>0</td>\n",
       "      <td>1</td>\n",
       "    </tr>\n",
       "    <tr>\n",
       "      <th>3</th>\n",
       "      <td>50000.0</td>\n",
       "      <td>46990.0</td>\n",
       "      <td>2000.0</td>\n",
       "      <td>2019.0</td>\n",
       "      <td>1200.0</td>\n",
       "      <td>1100.0</td>\n",
       "      <td>1069.0</td>\n",
       "      <td>1000.0</td>\n",
       "      <td>0.041465</td>\n",
       "      <td>0.040961</td>\n",
       "      <td>...</td>\n",
       "      <td>0</td>\n",
       "      <td>0</td>\n",
       "      <td>0</td>\n",
       "      <td>0</td>\n",
       "      <td>0</td>\n",
       "      <td>0</td>\n",
       "      <td>1</td>\n",
       "      <td>1</td>\n",
       "      <td>0</td>\n",
       "      <td>1</td>\n",
       "    </tr>\n",
       "    <tr>\n",
       "      <th>4</th>\n",
       "      <td>50000.0</td>\n",
       "      <td>8617.0</td>\n",
       "      <td>2000.0</td>\n",
       "      <td>36681.0</td>\n",
       "      <td>10000.0</td>\n",
       "      <td>9000.0</td>\n",
       "      <td>689.0</td>\n",
       "      <td>679.0</td>\n",
       "      <td>0.352734</td>\n",
       "      <td>1.023608</td>\n",
       "      <td>...</td>\n",
       "      <td>0</td>\n",
       "      <td>-1</td>\n",
       "      <td>0</td>\n",
       "      <td>0</td>\n",
       "      <td>0</td>\n",
       "      <td>0</td>\n",
       "      <td>0</td>\n",
       "      <td>1</td>\n",
       "      <td>0</td>\n",
       "      <td>1</td>\n",
       "    </tr>\n",
       "  </tbody>\n",
       "</table>\n",
       "<p>5 rows × 25 columns</p>\n",
       "</div>"
      ],
      "text/plain": [
       "   LIMIT_BAL  BILL_AMT1  PAY_AMT1  PAY_AMT2  PAY_AMT3  PAY_AMT4  PAY_AMT5  \\\n",
       "0    20000.0     3913.0       0.0     689.0       0.0       0.0       0.0   \n",
       "1   120000.0     2682.0       0.0    1000.0    1000.0    1000.0       0.0   \n",
       "2    90000.0    29239.0    1518.0    1500.0    1000.0    1000.0    1000.0   \n",
       "3    50000.0    46990.0    2000.0    2019.0    1200.0    1100.0    1069.0   \n",
       "4    50000.0     8617.0    2000.0   36681.0   10000.0    9000.0     689.0   \n",
       "\n",
       "   PAY_AMT6    PRCT_1    PRCT_2  ...  PAY_2  PAY_3  PAY_4  PAY_5  PAY_6  \\\n",
       "0       0.0  0.000000  1.000000  ...      2     -1     -1     -2     -2   \n",
       "1    2000.0  0.000000  0.372856  ...      2      0      0      0      2   \n",
       "2    5000.0  0.108220  0.110628  ...      0      0      0      0      0   \n",
       "3    1000.0  0.041465  0.040961  ...      0      0      0      0      0   \n",
       "4     679.0  0.352734  1.023608  ...      0     -1      0      0      0   \n",
       "\n",
       "   default.payment.next.month  FEMALE  MARRIED  GRADSCHOOL  UNIVERSITY  \n",
       "0                           1       1        1           0           1  \n",
       "1                           1       1        0           0           1  \n",
       "2                           0       1        0           0           1  \n",
       "3                           0       1        1           0           1  \n",
       "4                           0       0        1           0           1  \n",
       "\n",
       "[5 rows x 25 columns]"
      ]
     },
     "execution_count": 23,
     "metadata": {},
     "output_type": "execute_result"
    }
   ],
   "source": [
    "# Basic data cleaning is over, creating the dataset that will be used going forward\n",
    "data = new_df_conts.merge(df_cats, left_index=True, right_index=True).reset_index(drop=True)\n",
    "data.head()"
   ]
  },
  {
   "cell_type": "markdown",
   "metadata": {},
   "source": [
    "# Further Data Exploration and Feature Selection\n",
    "Here we will explore the data in a bit more detail, using Lasso regression to select more features, and even creating a simple model to help determine if we are overfitting our data.  We will also take a look at class imbalance and attempt to address it."
   ]
  },
  {
   "cell_type": "code",
   "execution_count": 24,
   "metadata": {},
   "outputs": [],
   "source": [
    "# Splitting cleaned data into training and test sets so that \n",
    "# Features can be eliminated using Lasso regression\n",
    "target = data['default.payment.next.month']\n",
    "features = data.drop('default.payment.next.month', axis=1)\n",
    "my_split(features,target)"
   ]
  },
  {
   "cell_type": "code",
   "execution_count": 25,
   "metadata": {},
   "outputs": [],
   "source": [
    "# Scaling data with minmaxscaler, but leaving binary data unchanged\n",
    "# Binary data already has the proper range \n",
    "binary_features = ['FEMALE', 'MARRIED', 'GRADSCHOOL', 'UNIVERSITY']\n",
    "my_transform(X_train, X_test, binary=True)"
   ]
  },
  {
   "cell_type": "code",
   "execution_count": 26,
   "metadata": {},
   "outputs": [
    {
     "name": "stdout",
     "output_type": "stream",
     "text": [
      "Raw counts: \n",
      "\n",
      "0    20757\n",
      "1     6252\n",
      "Name: default.payment.next.month, dtype: int64\n",
      "-----------------------------------\n",
      "Normalized counts: \n",
      "\n",
      "0    0.768522\n",
      "1    0.231478\n",
      "Name: default.payment.next.month, dtype: float64\n"
     ]
    }
   ],
   "source": [
    "# Taking a look at the value counts for the target to see if oversampling could be helpful\n",
    "print('Raw counts: \\n')\n",
    "print(data['default.payment.next.month'].value_counts())\n",
    "print('-----------------------------------')\n",
    "print('Normalized counts: \\n')\n",
    "print(data['default.payment.next.month'].value_counts(normalize=True))"
   ]
  },
  {
   "cell_type": "code",
   "execution_count": 27,
   "metadata": {},
   "outputs": [
    {
     "name": "stderr",
     "output_type": "stream",
     "text": [
      "/Users/derekvanbriesen/opt/anaconda3/envs/learn-env/lib/python3.6/site-packages/sklearn/utils/deprecation.py:86: FutureWarning: Function safe_indexing is deprecated; safe_indexing is deprecated in version 0.22 and will be removed in version 0.24.\n",
      "  warnings.warn(msg, category=FutureWarning)\n"
     ]
    },
    {
     "name": "stdout",
     "output_type": "stream",
     "text": [
      "-----------------------------------------\n",
      "Synthetic sample class distribution: \n",
      "\n",
      "1    15555\n",
      "0    15555\n",
      "dtype: int64\n"
     ]
    }
   ],
   "source": [
    "# There is an imbalance, so I'm using SMOTE\n",
    "# To correct for this using synthetic class distribution\n",
    "smote = SMOTE(random_state=25)\n",
    "X_train_resampled, y_train_resampled = smote.fit_sample(X_train_transformed, y_train) \n",
    "print('-----------------------------------------')\n",
    "print('Synthetic sample class distribution: \\n')\n",
    "print(pd.Series(y_train_resampled).value_counts()) "
   ]
  },
  {
   "cell_type": "code",
   "execution_count": 28,
   "metadata": {},
   "outputs": [],
   "source": [
    "# Setting grid parameters for a model to check on overfitting\n",
    "param_grid = {\n",
    "    \"learning_rate\": [0.1],\n",
    "    'max_depth': [6],\n",
    "    'min_child_weight': [5],\n",
    "    'subsample': [ 0.7],\n",
    "    'n_estimators': [300],\n",
    "}"
   ]
  },
  {
   "cell_type": "code",
   "execution_count": 29,
   "metadata": {},
   "outputs": [
    {
     "name": "stdout",
     "output_type": "stream",
     "text": [
      "Grid Search found the following optimal parameters: \n",
      "learning_rate: 0.1\n",
      "max_depth: 6\n",
      "min_child_weight: 5\n",
      "n_estimators: 300\n",
      "subsample: 0.7\n",
      "\n",
      "Training Accuracy: 90.92%\n",
      "Validation accuracy: 80.39%\n"
     ]
    }
   ],
   "source": [
    "# Since the class imbalance has been addressed, now would be a good time to check for overfitting\n",
    "clf = xgb.XGBClassifier()\n",
    "grid_clf = GridSearchCV(clf, param_grid, scoring='accuracy', cv=None, n_jobs=1)\n",
    "grid_clf.fit(X_train_resampled, y_train_resampled)\n",
    "\n",
    "best_parameters = grid_clf.best_params_\n",
    "\n",
    "print(\"Grid Search found the following optimal parameters: \")\n",
    "for param_name in sorted(best_parameters.keys()):\n",
    "    print(\"%s: %r\" % (param_name, best_parameters[param_name]))\n",
    "\n",
    "training_preds = grid_clf.predict(X_train_resampled)\n",
    "val_preds = grid_clf.predict(X_test_transformed.values)\n",
    "training_accuracy = accuracy_score(y_train_resampled, training_preds)\n",
    "val_accuracy = accuracy_score(y_test, val_preds)\n",
    "\n",
    "print(\"\")\n",
    "print(\"Training Accuracy: {:.4}%\".format(training_accuracy * 100))\n",
    "print(\"Validation accuracy: {:.4}%\".format(val_accuracy * 100))"
   ]
  },
  {
   "cell_type": "code",
   "execution_count": 30,
   "metadata": {},
   "outputs": [
    {
     "name": "stdout",
     "output_type": "stream",
     "text": [
      "\n",
      "AUC is :0.67\n",
      "\n",
      "Confusion Matrix\n",
      "----------------\n"
     ]
    },
    {
     "data": {
      "text/html": [
       "<div>\n",
       "<style scoped>\n",
       "    .dataframe tbody tr th:only-of-type {\n",
       "        vertical-align: middle;\n",
       "    }\n",
       "\n",
       "    .dataframe tbody tr th {\n",
       "        vertical-align: top;\n",
       "    }\n",
       "\n",
       "    .dataframe thead th {\n",
       "        text-align: right;\n",
       "    }\n",
       "</style>\n",
       "<table border=\"1\" class=\"dataframe\">\n",
       "  <thead>\n",
       "    <tr style=\"text-align: right;\">\n",
       "      <th>Predicted</th>\n",
       "      <th>0</th>\n",
       "      <th>1</th>\n",
       "      <th>All</th>\n",
       "    </tr>\n",
       "    <tr>\n",
       "      <th>True</th>\n",
       "      <th></th>\n",
       "      <th></th>\n",
       "      <th></th>\n",
       "    </tr>\n",
       "  </thead>\n",
       "  <tbody>\n",
       "    <tr>\n",
       "      <th>0</th>\n",
       "      <td>4789</td>\n",
       "      <td>413</td>\n",
       "      <td>5202</td>\n",
       "    </tr>\n",
       "    <tr>\n",
       "      <th>1</th>\n",
       "      <td>911</td>\n",
       "      <td>640</td>\n",
       "      <td>1551</td>\n",
       "    </tr>\n",
       "    <tr>\n",
       "      <th>All</th>\n",
       "      <td>5700</td>\n",
       "      <td>1053</td>\n",
       "      <td>6753</td>\n",
       "    </tr>\n",
       "  </tbody>\n",
       "</table>\n",
       "</div>"
      ],
      "text/plain": [
       "Predicted     0     1   All\n",
       "True                       \n",
       "0          4789   413  5202\n",
       "1           911   640  1551\n",
       "All        5700  1053  6753"
      ]
     },
     "execution_count": 30,
     "metadata": {},
     "output_type": "execute_result"
    }
   ],
   "source": [
    "# Training accuracy was far higher than validation, so overfitting seems likely.\n",
    "# Checking the AUC and confusion matrix\n",
    "false_positive_rate, true_positive_rate, thresholds = roc_curve(y_test, val_preds)\n",
    "roc_auc = auc(false_positive_rate, true_positive_rate)\n",
    "print('\\nAUC is :{0}'.format(round(roc_auc, 2)))\n",
    "\n",
    "# Create and print a confusion matrix \n",
    "print('\\nConfusion Matrix')\n",
    "print('----------------')\n",
    "pd.crosstab(y_test, val_preds, rownames=['True'], colnames=['Predicted'], margins=True)"
   ]
  },
  {
   "cell_type": "code",
   "execution_count": 31,
   "metadata": {},
   "outputs": [],
   "source": [
    "# There is likely overfitting, so it is time for more feature selection\n",
    "# Created a function that uses Lasso to easily help with this task\n",
    "# It returns a list of all the zero coefficents produced by a Lasso regression\n",
    "def my_lasso(X_train, X_test, y_train, y_test, a):\n",
    "    global zero_list\n",
    "    zero_list = []\n",
    "    lasso = Lasso(alpha=a)\n",
    "    lasso.fit(X_train, y_train)\n",
    "    train_len = len(X_train)\n",
    "    test_len = len(X_test)\n",
    "    y_h_lasso_train = np.reshape(lasso.predict(X_train), (train_len,))\n",
    "    y_h_lasso_test = np.reshape(lasso.predict(X_test), (test_len,))\n",
    "    print('Lasso parameter coefficients:', lasso.coef_)\n",
    "    for x in range(1, len(lasso.coef_)):\n",
    "        if lasso.coef_[x] == 0:\n",
    "            zero_list.append(X_train.columns[x])\n",
    "    print('---------------------------------------------')\n",
    "    print('Columns with coefficient of zero:', zero_list)"
   ]
  },
  {
   "cell_type": "code",
   "execution_count": 32,
   "metadata": {},
   "outputs": [
    {
     "name": "stdout",
     "output_type": "stream",
     "text": [
      "Lasso parameter coefficients: [-2.46286597e-02 -1.91909268e-01 -6.15771887e-02 -4.68430493e-02\n",
      " -1.12101790e-02 -0.00000000e+00 -2.95035181e-02 -0.00000000e+00\n",
      "  0.00000000e+00 -0.00000000e+00  0.00000000e+00 -0.00000000e+00\n",
      " -0.00000000e+00  0.00000000e+00  8.94121183e-01  2.19334819e-01\n",
      "  5.52060982e-02  6.91902102e-02  0.00000000e+00  0.00000000e+00\n",
      " -1.83515109e-02  3.23728883e-02  2.14188228e-04 -0.00000000e+00]\n",
      "---------------------------------------------\n",
      "Columns with coefficient of zero: ['PAY_AMT4', 'PAY_AMT6', 'PRCT_1', 'PRCT_2', 'PRCT_3', 'PRCT_4', 'PRCT_5', 'AGE', 'PAY_5', 'PAY_6', 'UNIVERSITY']\n"
     ]
    }
   ],
   "source": [
    "# Using Lasso function to get a list of features I can potentially drop\n",
    "my_lasso(X_train_transformed, X_test_transformed, y_train, y_test, a=.0015)"
   ]
  },
  {
   "cell_type": "code",
   "execution_count": 33,
   "metadata": {},
   "outputs": [
    {
     "data": {
      "text/html": [
       "<div>\n",
       "<style scoped>\n",
       "    .dataframe tbody tr th:only-of-type {\n",
       "        vertical-align: middle;\n",
       "    }\n",
       "\n",
       "    .dataframe tbody tr th {\n",
       "        vertical-align: top;\n",
       "    }\n",
       "\n",
       "    .dataframe thead th {\n",
       "        text-align: right;\n",
       "    }\n",
       "</style>\n",
       "<table border=\"1\" class=\"dataframe\">\n",
       "  <thead>\n",
       "    <tr style=\"text-align: right;\">\n",
       "      <th></th>\n",
       "      <th>LIMIT_BAL</th>\n",
       "      <th>BILL_AMT1</th>\n",
       "      <th>PAY_AMT1</th>\n",
       "      <th>PAY_AMT2</th>\n",
       "      <th>PAY_AMT3</th>\n",
       "      <th>PAY_AMT5</th>\n",
       "      <th>PAY_0</th>\n",
       "      <th>PAY_2</th>\n",
       "      <th>PAY_3</th>\n",
       "      <th>PAY_4</th>\n",
       "      <th>default.payment.next.month</th>\n",
       "      <th>FEMALE</th>\n",
       "      <th>MARRIED</th>\n",
       "      <th>GRADSCHOOL</th>\n",
       "    </tr>\n",
       "  </thead>\n",
       "  <tbody>\n",
       "    <tr>\n",
       "      <th>0</th>\n",
       "      <td>20000.0</td>\n",
       "      <td>3913.0</td>\n",
       "      <td>0.0</td>\n",
       "      <td>689.0</td>\n",
       "      <td>0.0</td>\n",
       "      <td>0.0</td>\n",
       "      <td>2</td>\n",
       "      <td>2</td>\n",
       "      <td>-1</td>\n",
       "      <td>-1</td>\n",
       "      <td>1</td>\n",
       "      <td>1</td>\n",
       "      <td>1</td>\n",
       "      <td>0</td>\n",
       "    </tr>\n",
       "    <tr>\n",
       "      <th>1</th>\n",
       "      <td>120000.0</td>\n",
       "      <td>2682.0</td>\n",
       "      <td>0.0</td>\n",
       "      <td>1000.0</td>\n",
       "      <td>1000.0</td>\n",
       "      <td>0.0</td>\n",
       "      <td>-1</td>\n",
       "      <td>2</td>\n",
       "      <td>0</td>\n",
       "      <td>0</td>\n",
       "      <td>1</td>\n",
       "      <td>1</td>\n",
       "      <td>0</td>\n",
       "      <td>0</td>\n",
       "    </tr>\n",
       "    <tr>\n",
       "      <th>2</th>\n",
       "      <td>90000.0</td>\n",
       "      <td>29239.0</td>\n",
       "      <td>1518.0</td>\n",
       "      <td>1500.0</td>\n",
       "      <td>1000.0</td>\n",
       "      <td>1000.0</td>\n",
       "      <td>0</td>\n",
       "      <td>0</td>\n",
       "      <td>0</td>\n",
       "      <td>0</td>\n",
       "      <td>0</td>\n",
       "      <td>1</td>\n",
       "      <td>0</td>\n",
       "      <td>0</td>\n",
       "    </tr>\n",
       "    <tr>\n",
       "      <th>3</th>\n",
       "      <td>50000.0</td>\n",
       "      <td>46990.0</td>\n",
       "      <td>2000.0</td>\n",
       "      <td>2019.0</td>\n",
       "      <td>1200.0</td>\n",
       "      <td>1069.0</td>\n",
       "      <td>0</td>\n",
       "      <td>0</td>\n",
       "      <td>0</td>\n",
       "      <td>0</td>\n",
       "      <td>0</td>\n",
       "      <td>1</td>\n",
       "      <td>1</td>\n",
       "      <td>0</td>\n",
       "    </tr>\n",
       "    <tr>\n",
       "      <th>4</th>\n",
       "      <td>50000.0</td>\n",
       "      <td>8617.0</td>\n",
       "      <td>2000.0</td>\n",
       "      <td>36681.0</td>\n",
       "      <td>10000.0</td>\n",
       "      <td>689.0</td>\n",
       "      <td>-1</td>\n",
       "      <td>0</td>\n",
       "      <td>-1</td>\n",
       "      <td>0</td>\n",
       "      <td>0</td>\n",
       "      <td>0</td>\n",
       "      <td>1</td>\n",
       "      <td>0</td>\n",
       "    </tr>\n",
       "  </tbody>\n",
       "</table>\n",
       "</div>"
      ],
      "text/plain": [
       "   LIMIT_BAL  BILL_AMT1  PAY_AMT1  PAY_AMT2  PAY_AMT3  PAY_AMT5  PAY_0  PAY_2  \\\n",
       "0    20000.0     3913.0       0.0     689.0       0.0       0.0      2      2   \n",
       "1   120000.0     2682.0       0.0    1000.0    1000.0       0.0     -1      2   \n",
       "2    90000.0    29239.0    1518.0    1500.0    1000.0    1000.0      0      0   \n",
       "3    50000.0    46990.0    2000.0    2019.0    1200.0    1069.0      0      0   \n",
       "4    50000.0     8617.0    2000.0   36681.0   10000.0     689.0     -1      0   \n",
       "\n",
       "   PAY_3  PAY_4  default.payment.next.month  FEMALE  MARRIED  GRADSCHOOL  \n",
       "0     -1     -1                           1       1        1           0  \n",
       "1      0      0                           1       1        0           0  \n",
       "2      0      0                           0       1        0           0  \n",
       "3      0      0                           0       1        1           0  \n",
       "4     -1      0                           0       0        1           0  "
      ]
     },
     "execution_count": 33,
     "metadata": {},
     "output_type": "execute_result"
    }
   ],
   "source": [
    "# Dropping the zero columns from the dataset\n",
    "data = data.drop(zero_list, axis=1)\n",
    "data.head()"
   ]
  },
  {
   "cell_type": "code",
   "execution_count": 34,
   "metadata": {},
   "outputs": [
    {
     "name": "stderr",
     "output_type": "stream",
     "text": [
      "/Users/derekvanbriesen/opt/anaconda3/envs/learn-env/lib/python3.6/site-packages/sklearn/utils/deprecation.py:86: FutureWarning: Function safe_indexing is deprecated; safe_indexing is deprecated in version 0.22 and will be removed in version 0.24.\n",
      "  warnings.warn(msg, category=FutureWarning)\n"
     ]
    }
   ],
   "source": [
    "# Resampling the data to check the model again for overfitting\n",
    "target = data['default.payment.next.month']\n",
    "features = data.drop('default.payment.next.month', axis=1)\n",
    "binary_features.remove('UNIVERSITY')\n",
    "my_split(features,target)\n",
    "my_transform(X_train, X_test, binary=True)\n",
    "X_train_resampled, y_train_resampled = smote.fit_sample(X_train_transformed, y_train) "
   ]
  },
  {
   "cell_type": "code",
   "execution_count": 35,
   "metadata": {},
   "outputs": [
    {
     "name": "stdout",
     "output_type": "stream",
     "text": [
      "Grid Search found the following optimal parameters: \n",
      "learning_rate: 0.1\n",
      "max_depth: 6\n",
      "min_child_weight: 5\n",
      "n_estimators: 300\n",
      "subsample: 0.7\n",
      "\n",
      "Training Accuracy: 85.43%\n",
      "Validation accuracy: 81.19%\n"
     ]
    }
   ],
   "source": [
    "# Checking for any obvious overfitting\n",
    "#It seems better now, we can move on to graphing\n",
    "clf = xgb.XGBClassifier()\n",
    "grid_clf = GridSearchCV(clf, param_grid, scoring='accuracy', cv=None, n_jobs=1)\n",
    "grid_clf.fit(X_train_transformed, y_train)\n",
    "\n",
    "best_parameters = grid_clf.best_params_\n",
    "\n",
    "print(\"Grid Search found the following optimal parameters: \")\n",
    "for param_name in sorted(best_parameters.keys()):\n",
    "    print(\"%s: %r\" % (param_name, best_parameters[param_name]))\n",
    "\n",
    "training_preds = grid_clf.predict(X_train_transformed)\n",
    "val_preds = grid_clf.predict(X_test_transformed)\n",
    "training_accuracy = accuracy_score(y_train, training_preds)\n",
    "val_accuracy = accuracy_score(y_test, val_preds)\n",
    "\n",
    "print(\"\")\n",
    "print(\"Training Accuracy: {:.4}%\".format(training_accuracy * 100))\n",
    "print(\"Validation accuracy: {:.4}%\".format(val_accuracy * 100))"
   ]
  },
  {
   "cell_type": "markdown",
   "metadata": {},
   "source": [
    "# Graphs\n",
    "Now that we have properly addressed our data, we can begin using modeling to predict defaults.  The way I plan on doing this is by iterating through different hyperparameter values for a couple of specific estimators.  I can then find the parameter values associated with the higher test accuracy, and tune my model with these values.  I will be graphing each parameter value against the accuracy of the resulting classifier so that I can observe any trends caused by increases or decreases in these values.  The specific models used here (XGBoost and  RandomForest) are the ones that were most successful when I ran my data through several basic models.  "
   ]
  },
  {
   "cell_type": "code",
   "execution_count": 36,
   "metadata": {},
   "outputs": [
    {
     "data": {
      "image/png": "[encoded data removed]",
      "text/plain": [
       "<Figure size 432x288 with 1 Axes>"
      ]
     },
     "metadata": {
      "needs_background": "light"
     },
     "output_type": "display_data"
    },
    {
     "data": {
      "text/plain": [
       "<Figure size 432x288 with 0 Axes>"
      ]
     },
     "metadata": {},
     "output_type": "display_data"
    }
   ],
   "source": [
    "# Iterating through xgb predictions for different n_estimators values\n",
    "tree_list = np.arange(10, 900, 10) \n",
    "train = []\n",
    "test = []\n",
    "\n",
    "for tree in tree_list:\n",
    "    clf = xgb.XGBClassifier(n_estimators=tree, n_jobs = -1, random_state=25)\n",
    "    clf.fit(X_train, y_train)\n",
    "    prediction = clf.predict(X_test)\n",
    "    trainpred = clf.predict(X_train)\n",
    "    train_acc = accuracy_score(y_train, trainpred)\n",
    "    test_acc = accuracy_score(y_test, prediction)\n",
    "    train.append(train_acc)\n",
    "    test.append(test_acc)\n",
    "    \n",
    "acc_vs_est = pd.DataFrame({'n_estimators':tree_list,'Train_acc':train,'Test_acc':test})\n",
    "\n",
    "fig, ax = plt.subplots()\n",
    "x_axis = tree_list\n",
    "ax.plot(x_axis, acc_vs_est['Train_acc'], label='Train')\n",
    "ax.plot(x_axis, acc_vs_est['Test_acc'], label='Test')\n",
    "ax.legend()\n",
    "plt.ylabel('accuracy')\n",
    "plt.title('XGBoost accuracy vs n_estimators')\n",
    "plt.show()\n",
    "plt.savefig('acc_vs_est.png', dpi = 300)"
   ]
  },
  {
   "cell_type": "code",
   "execution_count": 37,
   "metadata": {},
   "outputs": [
    {
     "data": {
      "image/png": "[encoded data removed]",
      "text/plain": [
       "<Figure size 432x288 with 1 Axes>"
      ]
     },
     "metadata": {
      "needs_background": "light"
     },
     "output_type": "display_data"
    },
    {
     "data": {
      "text/plain": [
       "<Figure size 432x288 with 0 Axes>"
      ]
     },
     "metadata": {},
     "output_type": "display_data"
    }
   ],
   "source": [
    "# Iterating through xgb predictions for different learning_rate values\n",
    "rate_list = np.arange(0.05, 0.95, 0.05) \n",
    "train = []\n",
    "test = []\n",
    "\n",
    "for tree in rate_list:\n",
    "    clf = xgb.XGBClassifier(n_estimators=200, learning_rate=tree, n_jobs = -1, random_state=25)\n",
    "    clf.fit(X_train, y_train)\n",
    "    prediction = clf.predict(X_test)\n",
    "    trainpred = clf.predict(X_train)\n",
    "    train_acc = accuracy_score(y_train, trainpred)\n",
    "    test_acc = accuracy_score(y_test, prediction)\n",
    "    train.append(train_acc)\n",
    "    test.append(test_acc)\n",
    "    \n",
    "acc_vs_rate = pd.DataFrame({'learning_rate':rate_list,'Train_acc':train,'Test_acc':test})\n",
    "\n",
    "fig, ax = plt.subplots()\n",
    "x_axis = rate_list\n",
    "ax.plot(x_axis, acc_vs_rate['Train_acc'], label='Train')\n",
    "ax.plot(x_axis, acc_vs_rate['Test_acc'], label='Test')\n",
    "ax.legend()\n",
    "plt.ylabel('accuracy')\n",
    "plt.title('XGBoost accuracy vs learning_rate')\n",
    "plt.show()\n",
    "plt.savefig('acc_vs_rate.png', dpi = 300)"
   ]
  },
  {
   "cell_type": "code",
   "execution_count": 38,
   "metadata": {},
   "outputs": [
    {
     "data": {
      "image/png": "[encoded data removed]",
      "text/plain": [
       "<Figure size 432x288 with 1 Axes>"
      ]
     },
     "metadata": {
      "needs_background": "light"
     },
     "output_type": "display_data"
    },
    {
     "data": {
      "text/plain": [
       "<Figure size 432x288 with 0 Axes>"
      ]
     },
     "metadata": {},
     "output_type": "display_data"
    }
   ],
   "source": [
    "# Iterating through xgb predictions for different max_depth values\n",
    "tree_list = np.arange(2, 10) \n",
    "train = []\n",
    "test = []\n",
    "\n",
    "for tree in tree_list:\n",
    "    clf = xgb.XGBClassifier(max_depth=tree, n_jobs = -1, random_state=25)\n",
    "    clf.fit(X_train, y_train)\n",
    "    prediction = clf.predict(X_test)\n",
    "    trainpred = clf.predict(X_train)\n",
    "    train_acc = accuracy_score(y_train, trainpred)\n",
    "    test_acc = accuracy_score(y_test, prediction)\n",
    "    train.append(train_acc)\n",
    "    test.append(test_acc)\n",
    "    \n",
    "acc_vs_depth = pd.DataFrame({'max_depth':tree_list,'Train_acc':train,'Test_acc':test})\n",
    "\n",
    "fig, ax = plt.subplots()\n",
    "x_axis = tree_list\n",
    "ax.plot(x_axis, acc_vs_depth['Train_acc'], label='Train')\n",
    "ax.plot(x_axis, acc_vs_depth['Test_acc'], label='Test')\n",
    "ax.legend()\n",
    "plt.ylabel('accuracy')\n",
    "plt.title('XGBoost accuracy vs max_depth')\n",
    "plt.show()\n",
    "plt.savefig('acc_vs_depth.png', dpi = 300)"
   ]
  },
  {
   "cell_type": "code",
   "execution_count": 39,
   "metadata": {},
   "outputs": [
    {
     "data": {
      "image/png": "[encoded data removed]",
      "text/plain": [
       "<Figure size 432x288 with 1 Axes>"
      ]
     },
     "metadata": {
      "needs_background": "light"
     },
     "output_type": "display_data"
    },
    {
     "data": {
      "text/plain": [
       "<Figure size 432x288 with 0 Axes>"
      ]
     },
     "metadata": {},
     "output_type": "display_data"
    }
   ],
   "source": [
    "# Iterating through rfc predictions for different max_depth values\n",
    "depth_list = np.arange(3, 30)\n",
    "train = []\n",
    "test = []\n",
    "\n",
    "for depth in depth_list:\n",
    "    rfc = RandomForestClassifier(max_depth=depth, n_jobs = -1, random_state=42)\n",
    "    rfc.fit(X_train, y_train)\n",
    "    prediction = rfc.predict(X_test)\n",
    "    trainpred = rfc.predict(X_train)\n",
    "    train_acc = accuracy_score(y_train, trainpred)\n",
    "    test_acc = accuracy_score(y_test, prediction)\n",
    "    train.append(train_acc)\n",
    "    test.append(test_acc)\n",
    "    \n",
    "forest_depth = pd.DataFrame({'n_estimators':depth_list,'Train_acc':train,'Test_acc':test})\n",
    "\n",
    "fig, ax = plt.subplots()\n",
    "x_axis = depth_list\n",
    "ax.plot(x_axis, forest_depth['Train_acc'], label='Train')\n",
    "ax.plot(x_axis, forest_depth['Test_acc'], label='Test')\n",
    "ax.legend()\n",
    "plt.ylabel('accuracy')\n",
    "plt.title('Forest accuracy vs depth')\n",
    "plt.show()\n",
    "plt.savefig('forest_depth.png', dpi = 300)"
   ]
  },
  {
   "cell_type": "code",
   "execution_count": 40,
   "metadata": {},
   "outputs": [
    {
     "data": {
      "image/png": "[encoded data removed]",
      "text/plain": [
       "<Figure size 432x288 with 1 Axes>"
      ]
     },
     "metadata": {
      "needs_background": "light"
     },
     "output_type": "display_data"
    },
    {
     "data": {
      "text/plain": [
       "<Figure size 432x288 with 0 Axes>"
      ]
     },
     "metadata": {},
     "output_type": "display_data"
    }
   ],
   "source": [
    "# Iterating through rfc predictions for different min_samples_leaf values\n",
    "leaf_list = np.arange(1, 100)\n",
    "train = []\n",
    "test = []\n",
    "\n",
    "for leaf in leaf_list:\n",
    "    rfc = RandomForestClassifier(min_samples_leaf=leaf, n_jobs = -1, random_state=42)\n",
    "    rfc.fit(X_train, y_train)\n",
    "    prediction = rfc.predict(X_test)\n",
    "    trainpred = rfc.predict(X_train)\n",
    "    train_acc = accuracy_score(y_train, trainpred)\n",
    "    test_acc = accuracy_score(y_test, prediction)\n",
    "    train.append(train_acc)\n",
    "    test.append(test_acc)\n",
    "    \n",
    "forest_leaf = pd.DataFrame({'min_samples_leaf':leaf_list,'Train_acc':train,'Test_acc':test})\n",
    "\n",
    "fig, ax = plt.subplots()\n",
    "x_axis = leaf_list\n",
    "ax.plot(x_axis, forest_leaf['Train_acc'], label='Train')\n",
    "ax.plot(x_axis, forest_leaf['Test_acc'], label='Test')\n",
    "ax.legend()\n",
    "plt.ylabel('accuracy')\n",
    "plt.title('Forest accuracy vs min_samples_leaf')\n",
    "plt.show()\n",
    "plt.savefig('forest_leaf.png', dpi = 300)"
   ]
  },
  {
   "cell_type": "code",
   "execution_count": 41,
   "metadata": {},
   "outputs": [
    {
     "data": {
      "image/png": "[encoded data removed]",
      "text/plain": [
       "<Figure size 432x288 with 1 Axes>"
      ]
     },
     "metadata": {
      "needs_background": "light"
     },
     "output_type": "display_data"
    },
    {
     "data": {
      "text/plain": [
       "<Figure size 432x288 with 0 Axes>"
      ]
     },
     "metadata": {},
     "output_type": "display_data"
    }
   ],
   "source": [
    "# Iterating through rfc predictions for different min_samples_split values\n",
    "split_list = np.arange(2, 80, 2)\n",
    "train = []\n",
    "test = []\n",
    "\n",
    "for leaf in split_list:\n",
    "    rfc = RandomForestClassifier(min_samples_split=leaf, n_jobs = -1, random_state=42)\n",
    "    rfc.fit(X_train, y_train)\n",
    "    prediction = rfc.predict(X_test)\n",
    "    trainpred = rfc.predict(X_train)\n",
    "    train_acc = accuracy_score(y_train, trainpred)\n",
    "    test_acc = accuracy_score(y_test, prediction)\n",
    "    train.append(train_acc)\n",
    "    test.append(test_acc)\n",
    "    \n",
    "forest_split = pd.DataFrame({'min_samples_split':split_list,'Train_acc':train,'Test_acc':test})\n",
    "\n",
    "fig, ax = plt.subplots()\n",
    "x_axis = split_list\n",
    "ax.plot(x_axis, forest_split['Train_acc'], label='Train')\n",
    "ax.plot(x_axis, forest_split['Test_acc'], label='Test')\n",
    "ax.legend()\n",
    "plt.ylabel('accuracy')\n",
    "plt.title('Forest accuracy vs min_samples_split')\n",
    "plt.show()\n",
    "plt.savefig('forest_split.png', dpi = 300)"
   ]
  },
  {
   "cell_type": "code",
   "execution_count": 42,
   "metadata": {},
   "outputs": [
    {
     "data": {
      "image/png": "[encoded data removed]",
      "text/plain": [
       "<Figure size 432x288 with 1 Axes>"
      ]
     },
     "metadata": {
      "needs_background": "light"
     },
     "output_type": "display_data"
    },
    {
     "data": {
      "text/plain": [
       "<Figure size 432x288 with 0 Axes>"
      ]
     },
     "metadata": {},
     "output_type": "display_data"
    }
   ],
   "source": [
    "# Plotting the ROC curve\n",
    "fpr = false_positive_rate\n",
    "tpr = true_positive_rate\n",
    "lw = 2\n",
    "\n",
    "plt.plot(fpr, tpr, lw=lw, label='ROC curve')\n",
    "\n",
    "plt.plot([0, 1], [0, 1], color='navy', lw=lw, linestyle='--')\n",
    "plt.xlim([0.0, 1.0])\n",
    "plt.ylim([0.0, 1.05])\n",
    "\n",
    "plt.yticks([i/20.0 for i in range(21)])\n",
    "plt.xticks([i/20.0 for i in range(21)])\n",
    "plt.xlabel('False Positive Rate')\n",
    "plt.ylabel('True Positive Rate')\n",
    "plt.title('Receiver operating characteristic (ROC) Curve')\n",
    "plt.legend(loc='lower right')\n",
    "plt.show()\n",
    "plt.savefig('ROC_curve.png', dpi = 300)"
   ]
  },
  {
   "cell_type": "markdown",
   "metadata": {},
   "source": [
    "# Modeling "
   ]
  },
  {
   "cell_type": "code",
   "execution_count": 43,
   "metadata": {},
   "outputs": [
    {
     "name": "stdout",
     "output_type": "stream",
     "text": [
      "Baseline accuracy level is: 0.7685216039098078\n"
     ]
    }
   ],
   "source": [
    "# Calculating baseline model accuracy for the given data\n",
    "baseline_acc = data['default.payment.next.month'].value_counts(normalize=True)[0]\n",
    "print('Baseline accuracy level is:', baseline_acc)"
   ]
  },
  {
   "cell_type": "code",
   "execution_count": 44,
   "metadata": {},
   "outputs": [
    {
     "name": "stdout",
     "output_type": "stream",
     "text": [
      "[20, 0.25, 3]\n"
     ]
    }
   ],
   "source": [
    "#Using the graphs to find parameters with maximum testing accuracy\n",
    "acc_vs_est_max = acc_vs_est.sort_values(by='Test_acc', ascending=False).iloc[0,0]\n",
    "acc_vs_rate_max = acc_vs_rate.sort_values(by='Test_acc', ascending=False).iloc[0,0]\n",
    "acc_vs_depth_max = acc_vs_depth.sort_values(by='Test_acc', ascending=False).iloc[0,0]\n",
    "print([acc_vs_est_max, acc_vs_rate_max, acc_vs_depth_max])"
   ]
  },
  {
   "cell_type": "code",
   "execution_count": 45,
   "metadata": {},
   "outputs": [],
   "source": [
    "# Setting grid parameters according to graph values\n",
    "param_grid = {\n",
    "    \"learning_rate\": [acc_vs_rate_max],\n",
    "    'max_depth': [acc_vs_depth_max],\n",
    "    'n_estimators': [acc_vs_est_max]\n",
    "}"
   ]
  },
  {
   "cell_type": "code",
   "execution_count": 46,
   "metadata": {},
   "outputs": [
    {
     "name": "stdout",
     "output_type": "stream",
     "text": [
      "Training Accuracy: 77.63%\n",
      "Validation accuracy: 77.8%\n"
     ]
    }
   ],
   "source": [
    "# Testing out XGBoost with the resampled data.  Results were lackluster.\n",
    "clf = xgb.XGBClassifier()\n",
    "clf.fit(X_train_resampled, y_train_resampled)\n",
    "training_preds = clf.predict(X_train_resampled)\n",
    "val_preds = clf.predict(X_test_transformed.values)\n",
    "training_accuracy = accuracy_score(y_train_resampled, training_preds)\n",
    "val_accuracy = accuracy_score(y_test, val_preds)\n",
    "\n",
    "print(\"Training Accuracy: {:.4}%\".format(training_accuracy * 100))\n",
    "print(\"Validation accuracy: {:.4}%\".format(val_accuracy * 100))"
   ]
  },
  {
   "cell_type": "code",
   "execution_count": 47,
   "metadata": {},
   "outputs": [
    {
     "name": "stdout",
     "output_type": "stream",
     "text": [
      "Grid Search found the following optimal parameters: \n",
      "learning_rate: 0.25\n",
      "max_depth: 3\n",
      "n_estimators: 20\n",
      "\n",
      "Training Accuracy: 81.53%\n",
      "Validation accuracy: 81.68%\n"
     ]
    }
   ],
   "source": [
    "# Running GridSearch with the parameters recommended by the graphs\n",
    "#It is the most optimized result so far.\n",
    "grid_clf = GridSearchCV(clf, param_grid, scoring='accuracy', cv=None, n_jobs=1)\n",
    "grid_clf.fit(X_train, y_train)\n",
    "\n",
    "best_parameters = grid_clf.best_params_\n",
    "\n",
    "print(\"Grid Search found the following optimal parameters: \")\n",
    "for param_name in sorted(best_parameters.keys()):\n",
    "    print(\"%s: %r\" % (param_name, best_parameters[param_name]))\n",
    "\n",
    "training_preds = grid_clf.predict(X_train)\n",
    "val_preds = grid_clf.predict(X_test)\n",
    "training_accuracy = accuracy_score(y_train, training_preds)\n",
    "val_accuracy = accuracy_score(y_test, val_preds)\n",
    "\n",
    "print(\"\")\n",
    "print(\"Training Accuracy: {:.4}%\".format(training_accuracy * 100))\n",
    "print(\"Validation accuracy: {:.4}%\".format(val_accuracy * 100))"
   ]
  },
  {
   "cell_type": "code",
   "execution_count": 48,
   "metadata": {},
   "outputs": [
    {
     "name": "stdout",
     "output_type": "stream",
     "text": [
      "\n",
      "AUC is :0.66\n",
      "\n",
      "Confusion Matrix\n",
      "----------------\n"
     ]
    },
    {
     "data": {
      "text/html": [
       "<div>\n",
       "<style scoped>\n",
       "    .dataframe tbody tr th:only-of-type {\n",
       "        vertical-align: middle;\n",
       "    }\n",
       "\n",
       "    .dataframe tbody tr th {\n",
       "        vertical-align: top;\n",
       "    }\n",
       "\n",
       "    .dataframe thead th {\n",
       "        text-align: right;\n",
       "    }\n",
       "</style>\n",
       "<table border=\"1\" class=\"dataframe\">\n",
       "  <thead>\n",
       "    <tr style=\"text-align: right;\">\n",
       "      <th>Predicted</th>\n",
       "      <th>0</th>\n",
       "      <th>1</th>\n",
       "      <th>All</th>\n",
       "    </tr>\n",
       "    <tr>\n",
       "      <th>True</th>\n",
       "      <th></th>\n",
       "      <th></th>\n",
       "      <th></th>\n",
       "    </tr>\n",
       "  </thead>\n",
       "  <tbody>\n",
       "    <tr>\n",
       "      <th>0</th>\n",
       "      <td>4926</td>\n",
       "      <td>276</td>\n",
       "      <td>5202</td>\n",
       "    </tr>\n",
       "    <tr>\n",
       "      <th>1</th>\n",
       "      <td>961</td>\n",
       "      <td>590</td>\n",
       "      <td>1551</td>\n",
       "    </tr>\n",
       "    <tr>\n",
       "      <th>All</th>\n",
       "      <td>5887</td>\n",
       "      <td>866</td>\n",
       "      <td>6753</td>\n",
       "    </tr>\n",
       "  </tbody>\n",
       "</table>\n",
       "</div>"
      ],
      "text/plain": [
       "Predicted     0    1   All\n",
       "True                      \n",
       "0          4926  276  5202\n",
       "1           961  590  1551\n",
       "All        5887  866  6753"
      ]
     },
     "execution_count": 48,
     "metadata": {},
     "output_type": "execute_result"
    }
   ],
   "source": [
    "# Check the AUC for predictions\n",
    "false_positive_rate, true_positive_rate, thresholds = roc_curve(y_test, val_preds)\n",
    "roc_auc = auc(false_positive_rate, true_positive_rate)\n",
    "print('\\nAUC is :{0}'.format(round(roc_auc, 2)))\n",
    "\n",
    "# Create and print a confusion matrix \n",
    "print('\\nConfusion Matrix')\n",
    "print('----------------')\n",
    "pd.crosstab(y_test, val_preds, rownames=['True'], colnames=['Predicted'], margins=True)"
   ]
  },
  {
   "cell_type": "code",
   "execution_count": 49,
   "metadata": {},
   "outputs": [
    {
     "name": "stdout",
     "output_type": "stream",
     "text": [
      "Accuracy: 81.075%\n"
     ]
    }
   ],
   "source": [
    "# Checking to see if rfc is sensitive to the oversampled data\n",
    "rfc = RandomForestClassifier(n_jobs = -1, random_state=42)\n",
    "rfc.fit(X_train, y_train)\n",
    "prediction = rfc.predict(X_test)\n",
    "print(\"Accuracy: {}%\".format(round(accuracy_score(y_test, prediction) * 100,3)))"
   ]
  },
  {
   "cell_type": "code",
   "execution_count": 50,
   "metadata": {},
   "outputs": [
    {
     "name": "stdout",
     "output_type": "stream",
     "text": [
      "Accuracy: 78.913%\n"
     ]
    }
   ],
   "source": [
    "# It appears that it does perform worse, possibly because \n",
    "# Overfitting was a big problem with this data\n",
    "rfc = RandomForestClassifier(n_jobs = -1, random_state=42)\n",
    "rfc.fit(X_train_resampled, y_train_resampled)\n",
    "prediction = rfc.predict(X_test_transformed.values)\n",
    "print(\"Accuracy: {}%\".format(round(accuracy_score(y_test, prediction) * 100,3)))"
   ]
  },
  {
   "cell_type": "code",
   "execution_count": 51,
   "metadata": {},
   "outputs": [
    {
     "name": "stdout",
     "output_type": "stream",
     "text": [
      "[7, 8, 68]\n"
     ]
    }
   ],
   "source": [
    "#Using the graphs to find parameters with maximum testing accuracy\n",
    "forest_depth_max = forest_depth.sort_values(by='Test_acc', ascending=False).iloc[0,0]\n",
    "forest_leaf_max = forest_leaf.sort_values(by='Test_acc', ascending=False).iloc[0,0]\n",
    "forest_split_max = forest_split.sort_values(by='Test_acc', ascending=False).iloc[0,0]\n",
    "print([forest_depth_max, forest_leaf_max, forest_split_max])"
   ]
  },
  {
   "cell_type": "code",
   "execution_count": 52,
   "metadata": {},
   "outputs": [],
   "source": [
    "rfc_grid = {'n_estimators': [100],\n",
    "               'max_depth': [forest_depth_max],\n",
    "               'min_samples_leaf': [forest_leaf_max],\n",
    "               'min_samples_split' : [forest_split_max],\n",
    "               'n_jobs' : [-1],\n",
    "               'random_state' : [42]}"
   ]
  },
  {
   "cell_type": "code",
   "execution_count": 53,
   "metadata": {},
   "outputs": [
    {
     "name": "stdout",
     "output_type": "stream",
     "text": [
      "RandomForestClassifier(max_depth=7, min_samples_leaf=8, min_samples_split=68,\n",
      "                       n_jobs=-1, random_state=42)\n",
      "________________________________________\n",
      "Cross validated best score 81.23%\n",
      "Test score: 81.593%\n"
     ]
    }
   ],
   "source": [
    "# Running RandomizedSeachCV with the parameters from the random forest graphs\n",
    "# The result is extremely close to beating XGBoost but slightly below\n",
    "grid_forest = RandomizedSearchCV(estimator = RandomForestClassifier(), param_distributions = rfc_grid, \n",
    "                               n_iter = 1, cv=5, random_state=42, n_jobs = -1, scoring = 'accuracy')\n",
    "\n",
    "\n",
    "grid_forest.fit(X_train, y_train)\n",
    "\n",
    "best_forest = grid_forest.best_estimator_\n",
    "print(best_forest)\n",
    "print(\"_\"*40)\n",
    "#with its score\n",
    "print(\"Cross validated best score {}%\".format(round(grid_forest.best_score_ * 100,3)))\n",
    "\n",
    "predictions = best_forest.predict(X_test)\n",
    "print(\"Test score: {}%\".format(round(accuracy_score(y_true = y_test, y_pred = predictions) * 100,3)))"
   ]
  },
  {
   "cell_type": "code",
   "execution_count": 54,
   "metadata": {},
   "outputs": [
    {
     "name": "stdout",
     "output_type": "stream",
     "text": [
      "\n",
      "AUC is :0.66\n",
      "\n",
      "Confusion Matrix\n",
      "----------------\n"
     ]
    },
    {
     "data": {
      "text/html": [
       "<div>\n",
       "<style scoped>\n",
       "    .dataframe tbody tr th:only-of-type {\n",
       "        vertical-align: middle;\n",
       "    }\n",
       "\n",
       "    .dataframe tbody tr th {\n",
       "        vertical-align: top;\n",
       "    }\n",
       "\n",
       "    .dataframe thead th {\n",
       "        text-align: right;\n",
       "    }\n",
       "</style>\n",
       "<table border=\"1\" class=\"dataframe\">\n",
       "  <thead>\n",
       "    <tr style=\"text-align: right;\">\n",
       "      <th>Predicted</th>\n",
       "      <th>0</th>\n",
       "      <th>1</th>\n",
       "      <th>All</th>\n",
       "    </tr>\n",
       "    <tr>\n",
       "      <th>True</th>\n",
       "      <th></th>\n",
       "      <th></th>\n",
       "      <th></th>\n",
       "    </tr>\n",
       "  </thead>\n",
       "  <tbody>\n",
       "    <tr>\n",
       "      <th>0</th>\n",
       "      <td>4926</td>\n",
       "      <td>276</td>\n",
       "      <td>5202</td>\n",
       "    </tr>\n",
       "    <tr>\n",
       "      <th>1</th>\n",
       "      <td>961</td>\n",
       "      <td>590</td>\n",
       "      <td>1551</td>\n",
       "    </tr>\n",
       "    <tr>\n",
       "      <th>All</th>\n",
       "      <td>5887</td>\n",
       "      <td>866</td>\n",
       "      <td>6753</td>\n",
       "    </tr>\n",
       "  </tbody>\n",
       "</table>\n",
       "</div>"
      ],
      "text/plain": [
       "Predicted     0    1   All\n",
       "True                      \n",
       "0          4926  276  5202\n",
       "1           961  590  1551\n",
       "All        5887  866  6753"
      ]
     },
     "execution_count": 54,
     "metadata": {},
     "output_type": "execute_result"
    }
   ],
   "source": [
    "# Check the AUC for predictions\n",
    "false_positive_rate, true_positive_rate, thresholds = roc_curve(y_test, predictions)\n",
    "roc_auc = auc(false_positive_rate, true_positive_rate)\n",
    "print('\\nAUC is :{0}'.format(round(roc_auc, 2)))\n",
    "\n",
    "# Create and print a confusion matrix \n",
    "print('\\nConfusion Matrix')\n",
    "print('----------------')\n",
    "pd.crosstab(y_test, val_preds, rownames=['True'], colnames=['Predicted'], margins=True)"
   ]
  },
  {
   "cell_type": "code",
   "execution_count": 56,
   "metadata": {},
   "outputs": [
    {
     "name": "stdout",
     "output_type": "stream",
     "text": [
      "Grid Search found the following optimal parameters: \n",
      "criterion: 'gini'\n",
      "max_depth: None\n",
      "min_samples_split: 2\n",
      "\n",
      "Training Accuracy: 99.51%\n",
      "Validation accuracy: 69.08%\n"
     ]
    }
   ],
   "source": [
    "#Checking DecisionTree to see if it is worth looking into\n",
    "#Does not seem to be competitive with the others here\n",
    "dt_param_grid = {\n",
    "    'criterion' : ['gini'],\n",
    "    'max_depth': [None],\n",
    "    'min_samples_split': [2]\n",
    "}\n",
    "dt_clf = DecisionTreeClassifier()\n",
    "grid_clf = GridSearchCV(dt_clf, dt_param_grid, scoring='accuracy', cv=None, n_jobs=1)\n",
    "grid_clf.fit(X_train_resampled, y_train_resampled)\n",
    "\n",
    "best_parameters = grid_clf.best_params_\n",
    "\n",
    "print(\"Grid Search found the following optimal parameters: \")\n",
    "for param_name in sorted(best_parameters.keys()):\n",
    "    print(\"%s: %r\" % (param_name, best_parameters[param_name]))\n",
    "\n",
    "training_preds = grid_clf.predict(X_train_resampled)\n",
    "val_preds = grid_clf.predict(X_test_transformed.values)\n",
    "training_accuracy = accuracy_score(y_train_resampled, training_preds)\n",
    "val_accuracy = accuracy_score(y_test, val_preds)\n",
    "\n",
    "print(\"\")\n",
    "print(\"Training Accuracy: {:.4}%\".format(training_accuracy * 100))\n",
    "print(\"Validation accuracy: {:.4}%\".format(val_accuracy * 100))"
   ]
  },
  {
   "cell_type": "code",
   "execution_count": 57,
   "metadata": {},
   "outputs": [
    {
     "name": "stdout",
     "output_type": "stream",
     "text": [
      "\n",
      "AUC is :0.62\n",
      "\n",
      "Confusion Matrix\n",
      "----------------\n"
     ]
    },
    {
     "data": {
      "text/html": [
       "<div>\n",
       "<style scoped>\n",
       "    .dataframe tbody tr th:only-of-type {\n",
       "        vertical-align: middle;\n",
       "    }\n",
       "\n",
       "    .dataframe tbody tr th {\n",
       "        vertical-align: top;\n",
       "    }\n",
       "\n",
       "    .dataframe thead th {\n",
       "        text-align: right;\n",
       "    }\n",
       "</style>\n",
       "<table border=\"1\" class=\"dataframe\">\n",
       "  <thead>\n",
       "    <tr style=\"text-align: right;\">\n",
       "      <th>Predicted</th>\n",
       "      <th>0</th>\n",
       "      <th>1</th>\n",
       "      <th>All</th>\n",
       "    </tr>\n",
       "    <tr>\n",
       "      <th>True</th>\n",
       "      <th></th>\n",
       "      <th></th>\n",
       "      <th></th>\n",
       "    </tr>\n",
       "  </thead>\n",
       "  <tbody>\n",
       "    <tr>\n",
       "      <th>0</th>\n",
       "      <td>3904</td>\n",
       "      <td>1298</td>\n",
       "      <td>5202</td>\n",
       "    </tr>\n",
       "    <tr>\n",
       "      <th>1</th>\n",
       "      <td>790</td>\n",
       "      <td>761</td>\n",
       "      <td>1551</td>\n",
       "    </tr>\n",
       "    <tr>\n",
       "      <th>All</th>\n",
       "      <td>4694</td>\n",
       "      <td>2059</td>\n",
       "      <td>6753</td>\n",
       "    </tr>\n",
       "  </tbody>\n",
       "</table>\n",
       "</div>"
      ],
      "text/plain": [
       "Predicted     0     1   All\n",
       "True                       \n",
       "0          3904  1298  5202\n",
       "1           790   761  1551\n",
       "All        4694  2059  6753"
      ]
     },
     "execution_count": 57,
     "metadata": {},
     "output_type": "execute_result"
    }
   ],
   "source": [
    "# Check the AUC for predictions\n",
    "false_positive_rate, true_positive_rate, thresholds = roc_curve(y_test, val_preds)\n",
    "roc_auc = auc(false_positive_rate, true_positive_rate)\n",
    "print('\\nAUC is :{0}'.format(round(roc_auc, 2)))\n",
    "\n",
    "# Create and print a confusion matrix \n",
    "print('\\nConfusion Matrix')\n",
    "print('----------------')\n",
    "pd.crosstab(y_test, val_preds, rownames=['True'], colnames=['Predicted'], margins=True)"
   ]
  },
  {
   "cell_type": "code",
   "execution_count": 58,
   "metadata": {},
   "outputs": [
    {
     "data": {
      "text/plain": [
       "0.6711091366799941"
      ]
     },
     "execution_count": 58,
     "metadata": {},
     "output_type": "execute_result"
    }
   ],
   "source": [
    "# Running a K-nearest neighbors model just to check, results are not promising\n",
    "kn_clf = KNeighborsClassifier(n_neighbors=15)\n",
    "kn_clf.fit(X_train_resampled, y_train_resampled)\n",
    "kn_clf.score(X_test_transformed, y_test)"
   ]
  },
  {
   "cell_type": "code",
   "execution_count": 59,
   "metadata": {},
   "outputs": [
    {
     "data": {
      "text/plain": [
       "0.76499333629498"
      ]
     },
     "execution_count": 59,
     "metadata": {},
     "output_type": "execute_result"
    }
   ],
   "source": [
    "# One last KNN model without the synthetic sampling.  \n",
    "#Better than the first, but not worth pursuing.\n",
    "kn_clf = KNeighborsClassifier(n_neighbors=15)\n",
    "kn_clf.fit(X_train, y_train)\n",
    "kn_clf.score(X_test, y_test)"
   ]
  },
  {
   "cell_type": "markdown",
   "metadata": {},
   "source": [
    "# Conclusions\n",
    "\n",
    "I think that this project revealed some very interesting findings, and has provided enough information that I can answer all of the original questions.\n",
    "\n",
    "- What is the baseline accuracy level?  \n",
    "\n",
    "The baseline accuracy, which in this case would consist of classifying everything as the mode, was 76.8%.  My best model tested at 81.68%, which I was very satisfied with.  That's only around 5% better of course, but I will explain a bit more in my next answer.\n",
    "\n",
    "- Was there enough information in this data to make predictions?  Any obstacles?  \n",
    "\n",
    "There was certainly enough to make predictions, but there were some significant limiting factors.  There were abnormalities with the data that simply didn't seem logical.  For example, the 'PAY_X' column would be negative for someone in their most recent month, which according to the dataset means they are actually ahead on payments.  Yet plenty of instances could be found in the data of someone defaulting with a negative value in that column. The features in general were also not ideal, which will actually tie in with my next answer. \n",
    "\n",
    "- What factors are strong predictors of default?  \n",
    "\n",
    "The answer here is fairly straightforward, but also presented an obstacle when working with the data.  The strongest predictor by far was the most recent payment status 'PAY_0'.  This makes sense as these people were already behind on payments the most recently. The issue is that it was basically the only feature with a strong predictive value, so everything else was not terribly useful.  It was still possible to squeeze some predictive value out of the dataset with proper feature selection, but I was definitely happy to achieve 81.68%. "
   ]
  },
  {
   "cell_type": "code",
   "execution_count": null,
   "metadata": {},
   "outputs": [],
   "source": []
  }
 ],
 "metadata": {
  "kernelspec": {
   "display_name": "Python [conda env:learn-env] *",
   "language": "python",
   "name": "conda-env-learn-env-py"
  },
  "language_info": {
   "codemirror_mode": {
    "name": "ipython",
    "version": 3
   },
   "file_extension": ".py",
   "mimetype": "text/x-python",
   "name": "python",
   "nbconvert_exporter": "python",
   "pygments_lexer": "ipython3",
   "version": "3.6.9"
  }
 },
 "nbformat": 4,
 "nbformat_minor": 2
}
